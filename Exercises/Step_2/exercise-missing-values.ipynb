{
 "cells": [
  {
   "cell_type": "markdown",
   "id": "827e31a8",
   "metadata": {
    "papermill": {
     "duration": 0.01272,
     "end_time": "2022-10-22T12:38:10.034476",
     "exception": false,
     "start_time": "2022-10-22T12:38:10.021756",
     "status": "completed"
    },
    "tags": []
   },
   "source": [
    "**This notebook is an exercise in the [Intermediate Machine Learning](https://www.kaggle.com/learn/intermediate-machine-learning) course.  You can reference the tutorial at [this link](https://www.kaggle.com/alexisbcook/missing-values).**\n",
    "\n",
    "---\n"
   ]
  },
  {
   "cell_type": "markdown",
   "id": "75384d88",
   "metadata": {
    "papermill": {
     "duration": 0.011931,
     "end_time": "2022-10-22T12:38:10.057553",
     "exception": false,
     "start_time": "2022-10-22T12:38:10.045622",
     "status": "completed"
    },
    "tags": []
   },
   "source": [
    "Now it's your turn to test your new knowledge of **missing values** handling. You'll probably find it makes a big difference.\n",
    "\n",
    "# Setup\n",
    "\n",
    "The questions will give you feedback on your work. Run the following cell to set up the feedback system."
   ]
  },
  {
   "cell_type": "code",
   "execution_count": 1,
   "id": "8565c29d",
   "metadata": {
    "execution": {
     "iopub.execute_input": "2022-10-22T12:38:10.080602Z",
     "iopub.status.busy": "2022-10-22T12:38:10.080092Z",
     "iopub.status.idle": "2022-10-22T12:38:10.136535Z",
     "shell.execute_reply": "2022-10-22T12:38:10.135298Z"
    },
    "papermill": {
     "duration": 0.071949,
     "end_time": "2022-10-22T12:38:10.139953",
     "exception": false,
     "start_time": "2022-10-22T12:38:10.068004",
     "status": "completed"
    },
    "tags": []
   },
   "outputs": [
    {
     "name": "stdout",
     "output_type": "stream",
     "text": [
      "Setup Complete\n"
     ]
    }
   ],
   "source": [
    "# Set up code checking\n",
    "import os\n",
    "if not os.path.exists(\"../input/train.csv\"):\n",
    "    os.symlink(\"../input/home-data-for-ml-course/train.csv\", \"../input/train.csv\")  \n",
    "    os.symlink(\"../input/home-data-for-ml-course/test.csv\", \"../input/test.csv\") \n",
    "from learntools.core import binder\n",
    "binder.bind(globals())\n",
    "from learntools.ml_intermediate.ex2 import *\n",
    "print(\"Setup Complete\")"
   ]
  },
  {
   "cell_type": "markdown",
   "id": "6923442f",
   "metadata": {
    "papermill": {
     "duration": 0.01084,
     "end_time": "2022-10-22T12:38:10.162079",
     "exception": false,
     "start_time": "2022-10-22T12:38:10.151239",
     "status": "completed"
    },
    "tags": []
   },
   "source": [
    "In this exercise, you will work with data from the [Housing Prices Competition for Kaggle Learn Users](https://www.kaggle.com/c/home-data-for-ml-course). \n",
    "\n",
    "![Ames Housing dataset image](https://i.imgur.com/lTJVG4e.png)\n",
    "\n",
    "Run the next code cell without changes to load the training and validation sets in `X_train`, `X_valid`, `y_train`, and `y_valid`.  The test set is loaded in `X_test`."
   ]
  },
  {
   "cell_type": "code",
   "execution_count": 2,
   "id": "91401392",
   "metadata": {
    "execution": {
     "iopub.execute_input": "2022-10-22T12:38:10.186073Z",
     "iopub.status.busy": "2022-10-22T12:38:10.185187Z",
     "iopub.status.idle": "2022-10-22T12:38:11.325420Z",
     "shell.execute_reply": "2022-10-22T12:38:11.324304Z"
    },
    "papermill": {
     "duration": 1.155687,
     "end_time": "2022-10-22T12:38:11.328575",
     "exception": false,
     "start_time": "2022-10-22T12:38:10.172888",
     "status": "completed"
    },
    "tags": []
   },
   "outputs": [],
   "source": [
    "import pandas as pd\n",
    "from sklearn.model_selection import train_test_split\n",
    "\n",
    "# Read the data\n",
    "X_full = pd.read_csv('../input/train.csv', index_col='Id')\n",
    "X_test_full = pd.read_csv('../input/test.csv', index_col='Id')\n",
    "\n",
    "# Remove rows with missing target, separate target from predictors\n",
    "X_full.dropna(axis=0, subset=['SalePrice'], inplace=True)\n",
    "y = X_full.SalePrice\n",
    "X_full.drop(['SalePrice'], axis=1, inplace=True)\n",
    "\n",
    "# To keep things simple, we'll use only numerical predictors\n",
    "X = X_full.select_dtypes(exclude=['object'])\n",
    "X_test = X_test_full.select_dtypes(exclude=['object'])\n",
    "\n",
    "# Break off validation set from training data\n",
    "X_train, X_valid, y_train, y_valid = train_test_split(X, y, train_size=0.8, test_size=0.2,\n",
    "                                                      random_state=0)"
   ]
  },
  {
   "cell_type": "markdown",
   "id": "bfe1a488",
   "metadata": {
    "papermill": {
     "duration": 0.010336,
     "end_time": "2022-10-22T12:38:11.349614",
     "exception": false,
     "start_time": "2022-10-22T12:38:11.339278",
     "status": "completed"
    },
    "tags": []
   },
   "source": [
    "Use the next code cell to print the first five rows of the data."
   ]
  },
  {
   "cell_type": "code",
   "execution_count": 3,
   "id": "572ff83b",
   "metadata": {
    "execution": {
     "iopub.execute_input": "2022-10-22T12:38:11.372502Z",
     "iopub.status.busy": "2022-10-22T12:38:11.372099Z",
     "iopub.status.idle": "2022-10-22T12:38:11.401850Z",
     "shell.execute_reply": "2022-10-22T12:38:11.400672Z"
    },
    "papermill": {
     "duration": 0.044119,
     "end_time": "2022-10-22T12:38:11.404507",
     "exception": false,
     "start_time": "2022-10-22T12:38:11.360388",
     "status": "completed"
    },
    "tags": []
   },
   "outputs": [
    {
     "data": {
      "text/html": [
       "<div>\n",
       "<style scoped>\n",
       "    .dataframe tbody tr th:only-of-type {\n",
       "        vertical-align: middle;\n",
       "    }\n",
       "\n",
       "    .dataframe tbody tr th {\n",
       "        vertical-align: top;\n",
       "    }\n",
       "\n",
       "    .dataframe thead th {\n",
       "        text-align: right;\n",
       "    }\n",
       "</style>\n",
       "<table border=\"1\" class=\"dataframe\">\n",
       "  <thead>\n",
       "    <tr style=\"text-align: right;\">\n",
       "      <th></th>\n",
       "      <th>MSSubClass</th>\n",
       "      <th>LotFrontage</th>\n",
       "      <th>LotArea</th>\n",
       "      <th>OverallQual</th>\n",
       "      <th>OverallCond</th>\n",
       "      <th>YearBuilt</th>\n",
       "      <th>YearRemodAdd</th>\n",
       "      <th>MasVnrArea</th>\n",
       "      <th>BsmtFinSF1</th>\n",
       "      <th>BsmtFinSF2</th>\n",
       "      <th>...</th>\n",
       "      <th>GarageArea</th>\n",
       "      <th>WoodDeckSF</th>\n",
       "      <th>OpenPorchSF</th>\n",
       "      <th>EnclosedPorch</th>\n",
       "      <th>3SsnPorch</th>\n",
       "      <th>ScreenPorch</th>\n",
       "      <th>PoolArea</th>\n",
       "      <th>MiscVal</th>\n",
       "      <th>MoSold</th>\n",
       "      <th>YrSold</th>\n",
       "    </tr>\n",
       "    <tr>\n",
       "      <th>Id</th>\n",
       "      <th></th>\n",
       "      <th></th>\n",
       "      <th></th>\n",
       "      <th></th>\n",
       "      <th></th>\n",
       "      <th></th>\n",
       "      <th></th>\n",
       "      <th></th>\n",
       "      <th></th>\n",
       "      <th></th>\n",
       "      <th></th>\n",
       "      <th></th>\n",
       "      <th></th>\n",
       "      <th></th>\n",
       "      <th></th>\n",
       "      <th></th>\n",
       "      <th></th>\n",
       "      <th></th>\n",
       "      <th></th>\n",
       "      <th></th>\n",
       "      <th></th>\n",
       "    </tr>\n",
       "  </thead>\n",
       "  <tbody>\n",
       "    <tr>\n",
       "      <th>619</th>\n",
       "      <td>20</td>\n",
       "      <td>90.0</td>\n",
       "      <td>11694</td>\n",
       "      <td>9</td>\n",
       "      <td>5</td>\n",
       "      <td>2007</td>\n",
       "      <td>2007</td>\n",
       "      <td>452.0</td>\n",
       "      <td>48</td>\n",
       "      <td>0</td>\n",
       "      <td>...</td>\n",
       "      <td>774</td>\n",
       "      <td>0</td>\n",
       "      <td>108</td>\n",
       "      <td>0</td>\n",
       "      <td>0</td>\n",
       "      <td>260</td>\n",
       "      <td>0</td>\n",
       "      <td>0</td>\n",
       "      <td>7</td>\n",
       "      <td>2007</td>\n",
       "    </tr>\n",
       "    <tr>\n",
       "      <th>871</th>\n",
       "      <td>20</td>\n",
       "      <td>60.0</td>\n",
       "      <td>6600</td>\n",
       "      <td>5</td>\n",
       "      <td>5</td>\n",
       "      <td>1962</td>\n",
       "      <td>1962</td>\n",
       "      <td>0.0</td>\n",
       "      <td>0</td>\n",
       "      <td>0</td>\n",
       "      <td>...</td>\n",
       "      <td>308</td>\n",
       "      <td>0</td>\n",
       "      <td>0</td>\n",
       "      <td>0</td>\n",
       "      <td>0</td>\n",
       "      <td>0</td>\n",
       "      <td>0</td>\n",
       "      <td>0</td>\n",
       "      <td>8</td>\n",
       "      <td>2009</td>\n",
       "    </tr>\n",
       "    <tr>\n",
       "      <th>93</th>\n",
       "      <td>30</td>\n",
       "      <td>80.0</td>\n",
       "      <td>13360</td>\n",
       "      <td>5</td>\n",
       "      <td>7</td>\n",
       "      <td>1921</td>\n",
       "      <td>2006</td>\n",
       "      <td>0.0</td>\n",
       "      <td>713</td>\n",
       "      <td>0</td>\n",
       "      <td>...</td>\n",
       "      <td>432</td>\n",
       "      <td>0</td>\n",
       "      <td>0</td>\n",
       "      <td>44</td>\n",
       "      <td>0</td>\n",
       "      <td>0</td>\n",
       "      <td>0</td>\n",
       "      <td>0</td>\n",
       "      <td>8</td>\n",
       "      <td>2009</td>\n",
       "    </tr>\n",
       "    <tr>\n",
       "      <th>818</th>\n",
       "      <td>20</td>\n",
       "      <td>NaN</td>\n",
       "      <td>13265</td>\n",
       "      <td>8</td>\n",
       "      <td>5</td>\n",
       "      <td>2002</td>\n",
       "      <td>2002</td>\n",
       "      <td>148.0</td>\n",
       "      <td>1218</td>\n",
       "      <td>0</td>\n",
       "      <td>...</td>\n",
       "      <td>857</td>\n",
       "      <td>150</td>\n",
       "      <td>59</td>\n",
       "      <td>0</td>\n",
       "      <td>0</td>\n",
       "      <td>0</td>\n",
       "      <td>0</td>\n",
       "      <td>0</td>\n",
       "      <td>7</td>\n",
       "      <td>2008</td>\n",
       "    </tr>\n",
       "    <tr>\n",
       "      <th>303</th>\n",
       "      <td>20</td>\n",
       "      <td>118.0</td>\n",
       "      <td>13704</td>\n",
       "      <td>7</td>\n",
       "      <td>5</td>\n",
       "      <td>2001</td>\n",
       "      <td>2002</td>\n",
       "      <td>150.0</td>\n",
       "      <td>0</td>\n",
       "      <td>0</td>\n",
       "      <td>...</td>\n",
       "      <td>843</td>\n",
       "      <td>468</td>\n",
       "      <td>81</td>\n",
       "      <td>0</td>\n",
       "      <td>0</td>\n",
       "      <td>0</td>\n",
       "      <td>0</td>\n",
       "      <td>0</td>\n",
       "      <td>1</td>\n",
       "      <td>2006</td>\n",
       "    </tr>\n",
       "  </tbody>\n",
       "</table>\n",
       "<p>5 rows × 36 columns</p>\n",
       "</div>"
      ],
      "text/plain": [
       "     MSSubClass  LotFrontage  LotArea  OverallQual  OverallCond  YearBuilt  \\\n",
       "Id                                                                           \n",
       "619          20         90.0    11694            9            5       2007   \n",
       "871          20         60.0     6600            5            5       1962   \n",
       "93           30         80.0    13360            5            7       1921   \n",
       "818          20          NaN    13265            8            5       2002   \n",
       "303          20        118.0    13704            7            5       2001   \n",
       "\n",
       "     YearRemodAdd  MasVnrArea  BsmtFinSF1  BsmtFinSF2  ...  GarageArea  \\\n",
       "Id                                                     ...               \n",
       "619          2007       452.0          48           0  ...         774   \n",
       "871          1962         0.0           0           0  ...         308   \n",
       "93           2006         0.0         713           0  ...         432   \n",
       "818          2002       148.0        1218           0  ...         857   \n",
       "303          2002       150.0           0           0  ...         843   \n",
       "\n",
       "     WoodDeckSF  OpenPorchSF  EnclosedPorch  3SsnPorch  ScreenPorch  PoolArea  \\\n",
       "Id                                                                              \n",
       "619           0          108              0          0          260         0   \n",
       "871           0            0              0          0            0         0   \n",
       "93            0            0             44          0            0         0   \n",
       "818         150           59              0          0            0         0   \n",
       "303         468           81              0          0            0         0   \n",
       "\n",
       "     MiscVal  MoSold  YrSold  \n",
       "Id                            \n",
       "619        0       7    2007  \n",
       "871        0       8    2009  \n",
       "93         0       8    2009  \n",
       "818        0       7    2008  \n",
       "303        0       1    2006  \n",
       "\n",
       "[5 rows x 36 columns]"
      ]
     },
     "execution_count": 3,
     "metadata": {},
     "output_type": "execute_result"
    }
   ],
   "source": [
    "X_train.head()"
   ]
  },
  {
   "cell_type": "markdown",
   "id": "15d0e587",
   "metadata": {
    "papermill": {
     "duration": 0.010649,
     "end_time": "2022-10-22T12:38:11.426526",
     "exception": false,
     "start_time": "2022-10-22T12:38:11.415877",
     "status": "completed"
    },
    "tags": []
   },
   "source": [
    "You can already see a few missing values in the first several rows.  In the next step, you'll obtain a more comprehensive understanding of the missing values in the dataset.\n",
    "\n",
    "# Step 1: Preliminary investigation\n",
    "\n",
    "Run the code cell below without changes."
   ]
  },
  {
   "cell_type": "code",
   "execution_count": 4,
   "id": "a0cec934",
   "metadata": {
    "execution": {
     "iopub.execute_input": "2022-10-22T12:38:11.450528Z",
     "iopub.status.busy": "2022-10-22T12:38:11.449754Z",
     "iopub.status.idle": "2022-10-22T12:38:11.460051Z",
     "shell.execute_reply": "2022-10-22T12:38:11.458432Z"
    },
    "papermill": {
     "duration": 0.025437,
     "end_time": "2022-10-22T12:38:11.462960",
     "exception": false,
     "start_time": "2022-10-22T12:38:11.437523",
     "status": "completed"
    },
    "tags": []
   },
   "outputs": [
    {
     "name": "stdout",
     "output_type": "stream",
     "text": [
      "(1168, 36)\n",
      "LotFrontage    212\n",
      "MasVnrArea       6\n",
      "GarageYrBlt     58\n",
      "dtype: int64\n"
     ]
    }
   ],
   "source": [
    "# Shape of training data (num_rows, num_columns)\n",
    "print(X_train.shape)\n",
    "\n",
    "# Number of missing values in each column of training data\n",
    "missing_val_count_by_column = (X_train.isnull().sum())\n",
    "print(missing_val_count_by_column[missing_val_count_by_column > 0])"
   ]
  },
  {
   "cell_type": "markdown",
   "id": "9a4002b6",
   "metadata": {
    "papermill": {
     "duration": 0.011228,
     "end_time": "2022-10-22T12:38:11.486255",
     "exception": false,
     "start_time": "2022-10-22T12:38:11.475027",
     "status": "completed"
    },
    "tags": []
   },
   "source": [
    "### Part A\n",
    "\n",
    "Use the above output to answer the questions below."
   ]
  },
  {
   "cell_type": "code",
   "execution_count": 5,
   "id": "f03bf904",
   "metadata": {
    "execution": {
     "iopub.execute_input": "2022-10-22T12:38:11.510730Z",
     "iopub.status.busy": "2022-10-22T12:38:11.510068Z",
     "iopub.status.idle": "2022-10-22T12:38:11.524874Z",
     "shell.execute_reply": "2022-10-22T12:38:11.523661Z"
    },
    "papermill": {
     "duration": 0.029546,
     "end_time": "2022-10-22T12:38:11.526987",
     "exception": false,
     "start_time": "2022-10-22T12:38:11.497441",
     "status": "completed"
    },
    "tags": []
   },
   "outputs": [
    {
     "data": {
      "application/javascript": [
       "parent.postMessage({\"jupyterEvent\": \"custom.exercise_interaction\", \"data\": {\"outcomeType\": 1, \"valueTowardsCompletion\": 1.0, \"interactionType\": 1, \"questionType\": 1, \"questionId\": \"1.1_InvestigateEquality\", \"learnToolsVersion\": \"0.3.4\", \"failureMessage\": \"\", \"exceptionClass\": \"\", \"trace\": \"\"}}, \"*\")"
      ],
      "text/plain": [
       "<IPython.core.display.Javascript object>"
      ]
     },
     "metadata": {},
     "output_type": "display_data"
    },
    {
     "data": {
      "text/markdown": [
       "<span style=\"color:#33cc33\">Correct</span>"
      ],
      "text/plain": [
       "Correct"
      ]
     },
     "metadata": {},
     "output_type": "display_data"
    }
   ],
   "source": [
    "# Fill in the line below: How many rows are in the training data?\n",
    "num_rows = X_train.shape[0]\n",
    "\n",
    "# Fill in the line below: How many columns in the training data\n",
    "# have missing values?\n",
    "num_cols_with_missing = (X_train.isnull().sum() > 0).astype(\"int64\").sum()\n",
    "\n",
    "# Fill in the line below: How many missing entries are contained in \n",
    "# all of the training data?\n",
    "tot_missing = X_train.isnull().sum().sum(axis=0)\n",
    "\n",
    "# Check your answers\n",
    "step_1.a.check()"
   ]
  },
  {
   "cell_type": "code",
   "execution_count": 6,
   "id": "aa5f3e39",
   "metadata": {
    "execution": {
     "iopub.execute_input": "2022-10-22T12:38:11.551780Z",
     "iopub.status.busy": "2022-10-22T12:38:11.551367Z",
     "iopub.status.idle": "2022-10-22T12:38:11.564737Z",
     "shell.execute_reply": "2022-10-22T12:38:11.563466Z"
    },
    "papermill": {
     "duration": 0.028403,
     "end_time": "2022-10-22T12:38:11.566929",
     "exception": false,
     "start_time": "2022-10-22T12:38:11.538526",
     "status": "completed"
    },
    "tags": []
   },
   "outputs": [
    {
     "name": "stdout",
     "output_type": "stream",
     "text": [
      "Shape: (1168, 36)\n",
      "Number of Columns with NaN Values 3\n",
      "Number of Missing Entries 276\n"
     ]
    },
    {
     "data": {
      "text/plain": [
       "LotFrontage    212\n",
       "MasVnrArea       6\n",
       "GarageYrBlt     58\n",
       "dtype: int64"
      ]
     },
     "execution_count": 6,
     "metadata": {},
     "output_type": "execute_result"
    }
   ],
   "source": [
    "print(\"Shape:\", X_train.shape)\n",
    "print(\"Number of Columns with NaN Values\", num_cols_with_missing)\n",
    "print(\"Number of Missing Entries\", tot_missing)\n",
    "X_train.isnull().sum()[X_train.isnull().sum() > 0]"
   ]
  },
  {
   "cell_type": "code",
   "execution_count": 7,
   "id": "27a77bd6",
   "metadata": {
    "execution": {
     "iopub.execute_input": "2022-10-22T12:38:11.592341Z",
     "iopub.status.busy": "2022-10-22T12:38:11.591331Z",
     "iopub.status.idle": "2022-10-22T12:38:11.596551Z",
     "shell.execute_reply": "2022-10-22T12:38:11.595304Z"
    },
    "papermill": {
     "duration": 0.020812,
     "end_time": "2022-10-22T12:38:11.599214",
     "exception": false,
     "start_time": "2022-10-22T12:38:11.578402",
     "status": "completed"
    },
    "tags": []
   },
   "outputs": [],
   "source": [
    "# Lines below will give you a hint or solution code\n",
    "#step_1.a.hint()\n",
    "#step_1.a.solution()"
   ]
  },
  {
   "cell_type": "markdown",
   "id": "6f3dadba",
   "metadata": {
    "papermill": {
     "duration": 0.011741,
     "end_time": "2022-10-22T12:38:11.622582",
     "exception": false,
     "start_time": "2022-10-22T12:38:11.610841",
     "status": "completed"
    },
    "tags": []
   },
   "source": [
    "### Part B\n",
    "Considering your answers above, what do you think is likely the best approach to dealing with the missing values?"
   ]
  },
  {
   "cell_type": "markdown",
   "id": "b3234111",
   "metadata": {
    "papermill": {
     "duration": 0.01148,
     "end_time": "2022-10-22T12:38:11.646210",
     "exception": false,
     "start_time": "2022-10-22T12:38:11.634730",
     "status": "completed"
    },
    "tags": []
   },
   "source": [
    "The dataset has a little percentage of missing entries, then the best approach to dealing with the missing values would be Imputation or an Extension to Imputation. Is important to note that droping the rows or columns with NaN (Not a Number) values possibly would be a big mistake, because we would lose so many potential important data that the machine learning models could use"
   ]
  },
  {
   "cell_type": "code",
   "execution_count": 8,
   "id": "bf2c3018",
   "metadata": {
    "execution": {
     "iopub.execute_input": "2022-10-22T12:38:11.672104Z",
     "iopub.status.busy": "2022-10-22T12:38:11.671669Z",
     "iopub.status.idle": "2022-10-22T12:38:11.681933Z",
     "shell.execute_reply": "2022-10-22T12:38:11.680794Z"
    },
    "papermill": {
     "duration": 0.025539,
     "end_time": "2022-10-22T12:38:11.684023",
     "exception": false,
     "start_time": "2022-10-22T12:38:11.658484",
     "status": "completed"
    },
    "tags": []
   },
   "outputs": [
    {
     "data": {
      "application/javascript": [
       "parent.postMessage({\"jupyterEvent\": \"custom.exercise_interaction\", \"data\": {\"outcomeType\": 1, \"valueTowardsCompletion\": 1.0, \"interactionType\": 1, \"questionType\": 4, \"questionId\": \"1.2_InvestigateThought\", \"learnToolsVersion\": \"0.3.4\", \"failureMessage\": \"\", \"exceptionClass\": \"\", \"trace\": \"\"}}, \"*\")"
      ],
      "text/plain": [
       "<IPython.core.display.Javascript object>"
      ]
     },
     "metadata": {},
     "output_type": "display_data"
    },
    {
     "data": {
      "text/markdown": [
       "<span style=\"color:#33cc33\">Correct:</span> \n",
       "\n",
       "Since there are relatively few missing entries in the data (the column with the greatest percentage of missing values is missing less than 20% of its entries), we can expect that dropping columns is unlikely to yield good results.  This is because we'd be throwing away a lot of valuable data, and so imputation will likely perform better."
      ],
      "text/plain": [
       "Correct: \n",
       "\n",
       "Since there are relatively few missing entries in the data (the column with the greatest percentage of missing values is missing less than 20% of its entries), we can expect that dropping columns is unlikely to yield good results.  This is because we'd be throwing away a lot of valuable data, and so imputation will likely perform better."
      ]
     },
     "metadata": {},
     "output_type": "display_data"
    }
   ],
   "source": [
    "# Check your answer (Run this code cell to receive credit!)\n",
    "step_1.b.check()"
   ]
  },
  {
   "cell_type": "code",
   "execution_count": 9,
   "id": "bea0f818",
   "metadata": {
    "execution": {
     "iopub.execute_input": "2022-10-22T12:38:11.710655Z",
     "iopub.status.busy": "2022-10-22T12:38:11.709977Z",
     "iopub.status.idle": "2022-10-22T12:38:11.714049Z",
     "shell.execute_reply": "2022-10-22T12:38:11.713122Z"
    },
    "papermill": {
     "duration": 0.019906,
     "end_time": "2022-10-22T12:38:11.716316",
     "exception": false,
     "start_time": "2022-10-22T12:38:11.696410",
     "status": "completed"
    },
    "tags": []
   },
   "outputs": [],
   "source": [
    "#step_1.b.hint()"
   ]
  },
  {
   "cell_type": "markdown",
   "id": "b26a1d11",
   "metadata": {
    "papermill": {
     "duration": 0.011578,
     "end_time": "2022-10-22T12:38:11.740576",
     "exception": false,
     "start_time": "2022-10-22T12:38:11.728998",
     "status": "completed"
    },
    "tags": []
   },
   "source": [
    "To compare different approaches to dealing with missing values, you'll use the same `score_dataset()` function from the tutorial.  This function reports the [mean absolute error](https://en.wikipedia.org/wiki/Mean_absolute_error) (MAE) from a random forest model."
   ]
  },
  {
   "cell_type": "code",
   "execution_count": 10,
   "id": "b9941f07",
   "metadata": {
    "execution": {
     "iopub.execute_input": "2022-10-22T12:38:11.768815Z",
     "iopub.status.busy": "2022-10-22T12:38:11.768192Z",
     "iopub.status.idle": "2022-10-22T12:38:11.972796Z",
     "shell.execute_reply": "2022-10-22T12:38:11.971610Z"
    },
    "papermill": {
     "duration": 0.221265,
     "end_time": "2022-10-22T12:38:11.975651",
     "exception": false,
     "start_time": "2022-10-22T12:38:11.754386",
     "status": "completed"
    },
    "tags": []
   },
   "outputs": [],
   "source": [
    "from sklearn.ensemble import RandomForestRegressor\n",
    "from sklearn.metrics import mean_absolute_error\n",
    "\n",
    "# Function for comparing different approaches\n",
    "def score_dataset(X_train, X_valid, y_train, y_valid):\n",
    "    model = RandomForestRegressor(n_estimators=100, random_state=0)\n",
    "    model.fit(X_train, y_train)\n",
    "    preds = model.predict(X_valid)\n",
    "    return mean_absolute_error(y_valid, preds)"
   ]
  },
  {
   "cell_type": "markdown",
   "id": "4fb97a4f",
   "metadata": {
    "papermill": {
     "duration": 0.011145,
     "end_time": "2022-10-22T12:38:11.998578",
     "exception": false,
     "start_time": "2022-10-22T12:38:11.987433",
     "status": "completed"
    },
    "tags": []
   },
   "source": [
    "# Step 2: Drop columns with missing values\n",
    "\n",
    "In this step, you'll preprocess the data in `X_train` and `X_valid` to remove columns with missing values.  Set the preprocessed DataFrames to `reduced_X_train` and `reduced_X_valid`, respectively.  "
   ]
  },
  {
   "cell_type": "code",
   "execution_count": 11,
   "id": "ed810e79",
   "metadata": {
    "execution": {
     "iopub.execute_input": "2022-10-22T12:38:12.023928Z",
     "iopub.status.busy": "2022-10-22T12:38:12.023264Z",
     "iopub.status.idle": "2022-10-22T12:38:12.057567Z",
     "shell.execute_reply": "2022-10-22T12:38:12.056301Z"
    },
    "papermill": {
     "duration": 0.050135,
     "end_time": "2022-10-22T12:38:12.060186",
     "exception": false,
     "start_time": "2022-10-22T12:38:12.010051",
     "status": "completed"
    },
    "tags": []
   },
   "outputs": [
    {
     "data": {
      "application/javascript": [
       "parent.postMessage({\"jupyterEvent\": \"custom.exercise_interaction\", \"data\": {\"outcomeType\": 1, \"valueTowardsCompletion\": 1.0, \"interactionType\": 1, \"questionType\": 2, \"questionId\": \"2_DropMissing\", \"learnToolsVersion\": \"0.3.4\", \"failureMessage\": \"\", \"exceptionClass\": \"\", \"trace\": \"\"}}, \"*\")"
      ],
      "text/plain": [
       "<IPython.core.display.Javascript object>"
      ]
     },
     "metadata": {},
     "output_type": "display_data"
    },
    {
     "data": {
      "text/markdown": [
       "<span style=\"color:#33cc33\">Correct</span>"
      ],
      "text/plain": [
       "Correct"
      ]
     },
     "metadata": {},
     "output_type": "display_data"
    }
   ],
   "source": [
    "# Fill in the line below: get names of columns with missing values\n",
    "na_columns = [column for column in X_train.columns if X_train[column].isnull().any() or X_valid[column].isnull().any()] # Your code here\n",
    "\n",
    "# Fill in the lines below: drop columns in training and validation data\n",
    "reduced_X_train = X_train.drop(na_columns, axis=1)\n",
    "reduced_X_valid = X_valid.drop(na_columns, axis=1)\n",
    "\n",
    "# Check your answers\n",
    "step_2.check()"
   ]
  },
  {
   "cell_type": "code",
   "execution_count": 12,
   "id": "3d326480",
   "metadata": {
    "execution": {
     "iopub.execute_input": "2022-10-22T12:38:12.086669Z",
     "iopub.status.busy": "2022-10-22T12:38:12.085994Z",
     "iopub.status.idle": "2022-10-22T12:38:12.091096Z",
     "shell.execute_reply": "2022-10-22T12:38:12.089935Z"
    },
    "papermill": {
     "duration": 0.021198,
     "end_time": "2022-10-22T12:38:12.093593",
     "exception": false,
     "start_time": "2022-10-22T12:38:12.072395",
     "status": "completed"
    },
    "tags": []
   },
   "outputs": [],
   "source": [
    "# Lines below will give you a hint or solution code\n",
    "#step_2.hint()\n",
    "#step_2.solution()"
   ]
  },
  {
   "cell_type": "markdown",
   "id": "b5b191b5",
   "metadata": {
    "papermill": {
     "duration": 0.01141,
     "end_time": "2022-10-22T12:38:12.116827",
     "exception": false,
     "start_time": "2022-10-22T12:38:12.105417",
     "status": "completed"
    },
    "tags": []
   },
   "source": [
    "Run the next code cell without changes to obtain the MAE for this approach."
   ]
  },
  {
   "cell_type": "code",
   "execution_count": 13,
   "id": "0b272696",
   "metadata": {
    "execution": {
     "iopub.execute_input": "2022-10-22T12:38:12.142248Z",
     "iopub.status.busy": "2022-10-22T12:38:12.141813Z",
     "iopub.status.idle": "2022-10-22T12:38:13.249364Z",
     "shell.execute_reply": "2022-10-22T12:38:13.247965Z"
    },
    "papermill": {
     "duration": 1.123204,
     "end_time": "2022-10-22T12:38:13.251818",
     "exception": false,
     "start_time": "2022-10-22T12:38:12.128614",
     "status": "completed"
    },
    "tags": []
   },
   "outputs": [
    {
     "name": "stdout",
     "output_type": "stream",
     "text": [
      "MAE (Drop columns with missing values):\n",
      "17837.82570776256\n"
     ]
    }
   ],
   "source": [
    "print(\"MAE (Drop columns with missing values):\")\n",
    "print(score_dataset(reduced_X_train, reduced_X_valid, y_train, y_valid))"
   ]
  },
  {
   "cell_type": "markdown",
   "id": "6a4c8009",
   "metadata": {
    "papermill": {
     "duration": 0.011514,
     "end_time": "2022-10-22T12:38:13.275264",
     "exception": false,
     "start_time": "2022-10-22T12:38:13.263750",
     "status": "completed"
    },
    "tags": []
   },
   "source": [
    "# Step 3: Imputation\n",
    "\n",
    "### Part A\n",
    "\n",
    "Use the next code cell to impute missing values with the mean value along each column.  Set the preprocessed DataFrames to `imputed_X_train` and `imputed_X_valid`.  Make sure that the column names match those in `X_train` and `X_valid`."
   ]
  },
  {
   "cell_type": "code",
   "execution_count": 14,
   "id": "3e42f586",
   "metadata": {
    "execution": {
     "iopub.execute_input": "2022-10-22T12:38:13.300284Z",
     "iopub.status.busy": "2022-10-22T12:38:13.299899Z",
     "iopub.status.idle": "2022-10-22T12:38:13.335196Z",
     "shell.execute_reply": "2022-10-22T12:38:13.334130Z"
    },
    "papermill": {
     "duration": 0.050723,
     "end_time": "2022-10-22T12:38:13.337565",
     "exception": false,
     "start_time": "2022-10-22T12:38:13.286842",
     "status": "completed"
    },
    "tags": []
   },
   "outputs": [
    {
     "data": {
      "application/javascript": [
       "parent.postMessage({\"jupyterEvent\": \"custom.exercise_interaction\", \"data\": {\"outcomeType\": 1, \"valueTowardsCompletion\": 1.0, \"interactionType\": 1, \"questionType\": 2, \"questionId\": \"3.1_ImputeCode\", \"learnToolsVersion\": \"0.3.4\", \"failureMessage\": \"\", \"exceptionClass\": \"\", \"trace\": \"\"}}, \"*\")"
      ],
      "text/plain": [
       "<IPython.core.display.Javascript object>"
      ]
     },
     "metadata": {},
     "output_type": "display_data"
    },
    {
     "data": {
      "text/markdown": [
       "<span style=\"color:#33cc33\">Correct</span>"
      ],
      "text/plain": [
       "Correct"
      ]
     },
     "metadata": {},
     "output_type": "display_data"
    }
   ],
   "source": [
    "from sklearn.impute import SimpleImputer\n",
    "\n",
    "# Fill in the lines below: imputation\n",
    "my_imputer = SimpleImputer() # Your code here\n",
    "imputed_X_train = pd.DataFrame(my_imputer.fit_transform(X_train))\n",
    "imputed_X_valid = pd.DataFrame(my_imputer.transform(X_valid))\n",
    "\n",
    "# Fill in the lines below: imputation removed column names; put them back\n",
    "imputed_X_train.columns = X_train.columns\n",
    "imputed_X_valid.columns = X_valid.columns\n",
    "\n",
    "# Check your answers\n",
    "step_3.a.check()"
   ]
  },
  {
   "cell_type": "code",
   "execution_count": 15,
   "id": "fd338280",
   "metadata": {
    "execution": {
     "iopub.execute_input": "2022-10-22T12:38:13.363202Z",
     "iopub.status.busy": "2022-10-22T12:38:13.362800Z",
     "iopub.status.idle": "2022-10-22T12:38:13.367509Z",
     "shell.execute_reply": "2022-10-22T12:38:13.366446Z"
    },
    "papermill": {
     "duration": 0.020224,
     "end_time": "2022-10-22T12:38:13.369899",
     "exception": false,
     "start_time": "2022-10-22T12:38:13.349675",
     "status": "completed"
    },
    "tags": []
   },
   "outputs": [],
   "source": [
    "# Lines below will give you a hint or solution code\n",
    "#step_3.a.hint()\n",
    "#step_3.a.solution()"
   ]
  },
  {
   "cell_type": "markdown",
   "id": "6a8bd0e4",
   "metadata": {
    "papermill": {
     "duration": 0.011543,
     "end_time": "2022-10-22T12:38:13.393327",
     "exception": false,
     "start_time": "2022-10-22T12:38:13.381784",
     "status": "completed"
    },
    "tags": []
   },
   "source": [
    "Run the next code cell without changes to obtain the MAE for this approach."
   ]
  },
  {
   "cell_type": "code",
   "execution_count": 16,
   "id": "a71b6f22",
   "metadata": {
    "execution": {
     "iopub.execute_input": "2022-10-22T12:38:13.418523Z",
     "iopub.status.busy": "2022-10-22T12:38:13.418136Z",
     "iopub.status.idle": "2022-10-22T12:38:14.630134Z",
     "shell.execute_reply": "2022-10-22T12:38:14.628869Z"
    },
    "papermill": {
     "duration": 1.227549,
     "end_time": "2022-10-22T12:38:14.632694",
     "exception": false,
     "start_time": "2022-10-22T12:38:13.405145",
     "status": "completed"
    },
    "tags": []
   },
   "outputs": [
    {
     "name": "stdout",
     "output_type": "stream",
     "text": [
      "MAE (Imputation):\n",
      "18062.894611872147\n"
     ]
    }
   ],
   "source": [
    "print(\"MAE (Imputation):\")\n",
    "print(score_dataset(imputed_X_train, imputed_X_valid, y_train, y_valid))"
   ]
  },
  {
   "cell_type": "markdown",
   "id": "82cfa1c3",
   "metadata": {
    "papermill": {
     "duration": 0.01207,
     "end_time": "2022-10-22T12:38:14.657446",
     "exception": false,
     "start_time": "2022-10-22T12:38:14.645376",
     "status": "completed"
    },
    "tags": []
   },
   "source": [
    "### Part B\n",
    "\n",
    "Compare the MAE from each approach.  Does anything surprise you about the results?  Why do you think one approach performed better than the other?"
   ]
  },
  {
   "cell_type": "markdown",
   "id": "fae19cd5",
   "metadata": {
    "papermill": {
     "duration": 0.011949,
     "end_time": "2022-10-22T12:38:14.681561",
     "exception": false,
     "start_time": "2022-10-22T12:38:14.669612",
     "status": "completed"
    },
    "tags": []
   },
   "source": [
    "To determine which one performed better than the other, we have to experiment in real world cases. But relatively to the validation set, we can see that the imputation method scored worser than the droping method. That surprised me, because I was almost certain that the imputation method would performer a lot better than the droping method rsrs\n",
    "\n",
    "This teach that we have to test all the methods to see which has a better performance and, of course, we can't judge before study the data or test the other methods"
   ]
  },
  {
   "cell_type": "code",
   "execution_count": 17,
   "id": "c03a2cdb",
   "metadata": {
    "execution": {
     "iopub.execute_input": "2022-10-22T12:38:14.708570Z",
     "iopub.status.busy": "2022-10-22T12:38:14.707604Z",
     "iopub.status.idle": "2022-10-22T12:38:14.716924Z",
     "shell.execute_reply": "2022-10-22T12:38:14.715719Z"
    },
    "papermill": {
     "duration": 0.025384,
     "end_time": "2022-10-22T12:38:14.719189",
     "exception": false,
     "start_time": "2022-10-22T12:38:14.693805",
     "status": "completed"
    },
    "tags": []
   },
   "outputs": [
    {
     "data": {
      "application/javascript": [
       "parent.postMessage({\"jupyterEvent\": \"custom.exercise_interaction\", \"data\": {\"outcomeType\": 1, \"valueTowardsCompletion\": 1.0, \"interactionType\": 1, \"questionType\": 4, \"questionId\": \"3.2_ImputeThought\", \"learnToolsVersion\": \"0.3.4\", \"failureMessage\": \"\", \"exceptionClass\": \"\", \"trace\": \"\"}}, \"*\")"
      ],
      "text/plain": [
       "<IPython.core.display.Javascript object>"
      ]
     },
     "metadata": {},
     "output_type": "display_data"
    },
    {
     "data": {
      "text/markdown": [
       "<span style=\"color:#33cc33\">Correct:</span> \n",
       "\n",
       "Given that thre are so few missing values in the dataset, we'd expect imputation to perform better than dropping columns entirely.  However, we see that dropping columns performs slightly better!  While this can probably partially be attributed to noise in the dataset, another potential explanation is that the imputation method is not a great match to this dataset.  That is, maybe instead of filling in the mean value, it makes more sense to set every missing value to a value of 0, to fill in the most frequently encountered value, or to use some other method.  For instance, consider the `GarageYrBlt` column (which indicates the year that the garage was built).  It's likely that in some cases, a missing value could indicate a house that does not have a garage.  Does it make more sense to fill in the median value along each column in this case?  Or could we get better results by filling in the minimum value along each column?  It's not quite clear what's best in this case, but perhaps we can rule out some options immediately - for instance, setting missing values in this column to 0 is likely to yield horrible results!"
      ],
      "text/plain": [
       "Correct: \n",
       "\n",
       "Given that thre are so few missing values in the dataset, we'd expect imputation to perform better than dropping columns entirely.  However, we see that dropping columns performs slightly better!  While this can probably partially be attributed to noise in the dataset, another potential explanation is that the imputation method is not a great match to this dataset.  That is, maybe instead of filling in the mean value, it makes more sense to set every missing value to a value of 0, to fill in the most frequently encountered value, or to use some other method.  For instance, consider the `GarageYrBlt` column (which indicates the year that the garage was built).  It's likely that in some cases, a missing value could indicate a house that does not have a garage.  Does it make more sense to fill in the median value along each column in this case?  Or could we get better results by filling in the minimum value along each column?  It's not quite clear what's best in this case, but perhaps we can rule out some options immediately - for instance, setting missing values in this column to 0 is likely to yield horrible results!"
      ]
     },
     "metadata": {},
     "output_type": "display_data"
    }
   ],
   "source": [
    "# Check your answer (Run this code cell to receive credit!)\n",
    "step_3.b.check()"
   ]
  },
  {
   "cell_type": "code",
   "execution_count": 18,
   "id": "0116661c",
   "metadata": {
    "execution": {
     "iopub.execute_input": "2022-10-22T12:38:14.746761Z",
     "iopub.status.busy": "2022-10-22T12:38:14.746336Z",
     "iopub.status.idle": "2022-10-22T12:38:14.751404Z",
     "shell.execute_reply": "2022-10-22T12:38:14.750181Z"
    },
    "papermill": {
     "duration": 0.021429,
     "end_time": "2022-10-22T12:38:14.753779",
     "exception": false,
     "start_time": "2022-10-22T12:38:14.732350",
     "status": "completed"
    },
    "tags": []
   },
   "outputs": [],
   "source": [
    "#step_3.b.hint()"
   ]
  },
  {
   "cell_type": "markdown",
   "id": "ab38082f",
   "metadata": {
    "papermill": {
     "duration": 0.012261,
     "end_time": "2022-10-22T12:38:14.779568",
     "exception": false,
     "start_time": "2022-10-22T12:38:14.767307",
     "status": "completed"
    },
    "tags": []
   },
   "source": [
    "# Step 4: Generate test predictions\n",
    "\n",
    "In this final step, you'll use any approach of your choosing to deal with missing values.  Once you've preprocessed the training and validation features, you'll train and evaluate a random forest model.  Then, you'll preprocess the test data before generating predictions that can be submitted to the competition!\n",
    "\n",
    "### Part A\n",
    "\n",
    "Use the next code cell to preprocess the training and validation data.  Set the preprocessed DataFrames to `final_X_train` and `final_X_valid`.  **You can use any approach of your choosing here!**  in order for this step to be marked as correct, you need only ensure:\n",
    "- the preprocessed DataFrames have the same number of columns,\n",
    "- the preprocessed DataFrames have no missing values, \n",
    "- `final_X_train` and `y_train` have the same number of rows, and\n",
    "- `final_X_valid` and `y_valid` have the same number of rows."
   ]
  },
  {
   "cell_type": "markdown",
   "id": "7d6e4934",
   "metadata": {
    "papermill": {
     "duration": 0.012269,
     "end_time": "2022-10-22T12:38:14.804467",
     "exception": false,
     "start_time": "2022-10-22T12:38:14.792198",
     "status": "completed"
    },
    "tags": []
   },
   "source": [
    "### Let's study better the dataset before chose the methods"
   ]
  },
  {
   "cell_type": "code",
   "execution_count": 19,
   "id": "c100a596",
   "metadata": {
    "execution": {
     "iopub.execute_input": "2022-10-22T12:38:14.832086Z",
     "iopub.status.busy": "2022-10-22T12:38:14.831642Z",
     "iopub.status.idle": "2022-10-22T12:38:15.027603Z",
     "shell.execute_reply": "2022-10-22T12:38:15.026187Z"
    },
    "papermill": {
     "duration": 0.21327,
     "end_time": "2022-10-22T12:38:15.030266",
     "exception": false,
     "start_time": "2022-10-22T12:38:14.816996",
     "status": "completed"
    },
    "tags": []
   },
   "outputs": [],
   "source": [
    "import matplotlib.pyplot as plt\n",
    "import seaborn as sns\n",
    "import pandas as pd\n",
    "import numpy as np\n",
    "pd.plotting.register_matplotlib_converters()\n",
    "%matplotlib inline"
   ]
  },
  {
   "cell_type": "code",
   "execution_count": 20,
   "id": "88562da5",
   "metadata": {
    "execution": {
     "iopub.execute_input": "2022-10-22T12:38:15.058395Z",
     "iopub.status.busy": "2022-10-22T12:38:15.057643Z",
     "iopub.status.idle": "2022-10-22T12:38:15.064341Z",
     "shell.execute_reply": "2022-10-22T12:38:15.063535Z"
    },
    "papermill": {
     "duration": 0.022763,
     "end_time": "2022-10-22T12:38:15.066389",
     "exception": false,
     "start_time": "2022-10-22T12:38:15.043626",
     "status": "completed"
    },
    "tags": []
   },
   "outputs": [
    {
     "data": {
      "text/plain": [
       "False"
      ]
     },
     "execution_count": 20,
     "metadata": {},
     "output_type": "execute_result"
    }
   ],
   "source": [
    "(X_train[\"GarageYrBlt\"] == 0).any()"
   ]
  },
  {
   "cell_type": "code",
   "execution_count": 21,
   "id": "f4429c67",
   "metadata": {
    "execution": {
     "iopub.execute_input": "2022-10-22T12:38:15.093992Z",
     "iopub.status.busy": "2022-10-22T12:38:15.093167Z",
     "iopub.status.idle": "2022-10-22T12:38:16.318317Z",
     "shell.execute_reply": "2022-10-22T12:38:16.317107Z"
    },
    "papermill": {
     "duration": 1.241775,
     "end_time": "2022-10-22T12:38:16.321039",
     "exception": false,
     "start_time": "2022-10-22T12:38:15.079264",
     "status": "completed"
    },
    "tags": []
   },
   "outputs": [
    {
     "name": "stdout",
     "output_type": "stream",
     "text": [
      "MAE:\n",
      "(1168, 36) (292, 36) (1168,) (292,)\n",
      "17807.438333333328\n"
     ]
    }
   ],
   "source": [
    "from sklearn.impute import SimpleImputer\n",
    "\n",
    "X_train_test = X_train.copy()\n",
    "X_valid_test = X_valid.copy()\n",
    "X_train_test[\"GarageYrBlt\"] = X_train_test[\"GarageYrBlt\"].fillna(0)\n",
    "X_valid_test[\"GarageYrBlt\"] = X_valid_test[\"GarageYrBlt\"].fillna(0)\n",
    "\n",
    "my_imputer = SimpleImputer(strategy=\"median\")\n",
    "imputed_X_train = pd.DataFrame(my_imputer.fit_transform(X_train_test))\n",
    "imputed_X_valid = pd.DataFrame(my_imputer.transform(X_valid_test))\n",
    "\n",
    "imputed_X_train.columns = X_train.columns\n",
    "imputed_X_valid.columns = X_valid.columns\n",
    "\n",
    "\n",
    "X_test_test = X_test.copy()\n",
    "X_test_test[\"GarageYrBlt\"] = X_test_test[\"GarageYrBlt\"].fillna(0)\n",
    "\n",
    "imputed_X_test = pd.DataFrame(my_imputer.transform(X_test_test))\n",
    "imputed_X_test.columns = X_test.columns\n",
    "\n",
    "print(\"MAE:\")\n",
    "print(imputed_X_train.shape, imputed_X_valid.shape, y_train.shape, y_valid.shape)\n",
    "print(score_dataset(imputed_X_train, imputed_X_valid, y_train, y_valid))"
   ]
  },
  {
   "cell_type": "code",
   "execution_count": 22,
   "id": "84ae6a07",
   "metadata": {
    "execution": {
     "iopub.execute_input": "2022-10-22T12:38:16.349758Z",
     "iopub.status.busy": "2022-10-22T12:38:16.349368Z",
     "iopub.status.idle": "2022-10-22T12:38:16.371873Z",
     "shell.execute_reply": "2022-10-22T12:38:16.370581Z"
    },
    "papermill": {
     "duration": 0.039163,
     "end_time": "2022-10-22T12:38:16.374322",
     "exception": false,
     "start_time": "2022-10-22T12:38:16.335159",
     "status": "completed"
    },
    "tags": []
   },
   "outputs": [
    {
     "data": {
      "application/javascript": [
       "parent.postMessage({\"jupyterEvent\": \"custom.exercise_interaction\", \"data\": {\"outcomeType\": 1, \"valueTowardsCompletion\": 1.0, \"interactionType\": 1, \"questionType\": 2, \"questionId\": \"4.1_PredsCodeA\", \"learnToolsVersion\": \"0.3.4\", \"failureMessage\": \"\", \"exceptionClass\": \"\", \"trace\": \"\"}}, \"*\")"
      ],
      "text/plain": [
       "<IPython.core.display.Javascript object>"
      ]
     },
     "metadata": {},
     "output_type": "display_data"
    },
    {
     "data": {
      "text/markdown": [
       "<span style=\"color:#33cc33\">Correct</span>"
      ],
      "text/plain": [
       "Correct"
      ]
     },
     "metadata": {},
     "output_type": "display_data"
    }
   ],
   "source": [
    "# Preprocessed training and validation features\n",
    "final_X_train = imputed_X_train\n",
    "final_X_valid = imputed_X_valid\n",
    "\n",
    "# Check your answers\n",
    "step_4.a.check()"
   ]
  },
  {
   "cell_type": "code",
   "execution_count": 23,
   "id": "ee0ead8d",
   "metadata": {
    "execution": {
     "iopub.execute_input": "2022-10-22T12:38:16.403559Z",
     "iopub.status.busy": "2022-10-22T12:38:16.402707Z",
     "iopub.status.idle": "2022-10-22T12:38:16.407187Z",
     "shell.execute_reply": "2022-10-22T12:38:16.406123Z"
    },
    "papermill": {
     "duration": 0.021685,
     "end_time": "2022-10-22T12:38:16.409605",
     "exception": false,
     "start_time": "2022-10-22T12:38:16.387920",
     "status": "completed"
    },
    "tags": []
   },
   "outputs": [],
   "source": [
    "# Lines below will give you a hint or solution code\n",
    "#step_4.a.hint()\n",
    "#step_4.a.solution()"
   ]
  },
  {
   "cell_type": "markdown",
   "id": "d03c3520",
   "metadata": {
    "papermill": {
     "duration": 0.012745,
     "end_time": "2022-10-22T12:38:16.435643",
     "exception": false,
     "start_time": "2022-10-22T12:38:16.422898",
     "status": "completed"
    },
    "tags": []
   },
   "source": [
    "Run the next code cell to train and evaluate a random forest model.  (*Note that we don't use the `score_dataset()` function above, because we will soon use the trained model to generate test predictions!*)"
   ]
  },
  {
   "cell_type": "code",
   "execution_count": 24,
   "id": "ba1376a4",
   "metadata": {
    "execution": {
     "iopub.execute_input": "2022-10-22T12:38:16.463563Z",
     "iopub.status.busy": "2022-10-22T12:38:16.462872Z",
     "iopub.status.idle": "2022-10-22T12:38:17.673340Z",
     "shell.execute_reply": "2022-10-22T12:38:17.672036Z"
    },
    "papermill": {
     "duration": 1.227278,
     "end_time": "2022-10-22T12:38:17.675802",
     "exception": false,
     "start_time": "2022-10-22T12:38:16.448524",
     "status": "completed"
    },
    "tags": []
   },
   "outputs": [
    {
     "name": "stdout",
     "output_type": "stream",
     "text": [
      "MAE (Your approach):\n",
      "17807.438333333328\n"
     ]
    }
   ],
   "source": [
    "# Define and fit model\n",
    "model = RandomForestRegressor(n_estimators=100, random_state=0)\n",
    "model.fit(final_X_train, y_train)\n",
    "\n",
    "# Get validation predictions and MAE\n",
    "preds_valid = model.predict(final_X_valid)\n",
    "print(\"MAE (Your approach):\")\n",
    "print(mean_absolute_error(y_valid, preds_valid))"
   ]
  },
  {
   "cell_type": "markdown",
   "id": "912ffa8b",
   "metadata": {
    "papermill": {
     "duration": 0.013194,
     "end_time": "2022-10-22T12:38:17.702250",
     "exception": false,
     "start_time": "2022-10-22T12:38:17.689056",
     "status": "completed"
    },
    "tags": []
   },
   "source": [
    "### Part B\n",
    "\n",
    "Use the next code cell to preprocess your test data.  Make sure that you use a method that agrees with how you preprocessed the training and validation data, and set the preprocessed test features to `final_X_test`.\n",
    "\n",
    "Then, use the preprocessed test features and the trained model to generate test predictions in `preds_test`.\n",
    "\n",
    "In order for this step to be marked correct, you need only ensure:\n",
    "- the preprocessed test DataFrame has no missing values, and\n",
    "- `final_X_test` has the same number of rows as `X_test`."
   ]
  },
  {
   "cell_type": "code",
   "execution_count": 25,
   "id": "52e0f783",
   "metadata": {
    "execution": {
     "iopub.execute_input": "2022-10-22T12:38:17.730946Z",
     "iopub.status.busy": "2022-10-22T12:38:17.730464Z",
     "iopub.status.idle": "2022-10-22T12:38:17.735829Z",
     "shell.execute_reply": "2022-10-22T12:38:17.734616Z"
    },
    "papermill": {
     "duration": 0.022187,
     "end_time": "2022-10-22T12:38:17.738089",
     "exception": false,
     "start_time": "2022-10-22T12:38:17.715902",
     "status": "completed"
    },
    "tags": []
   },
   "outputs": [],
   "source": [
    "from sklearn.impute import SimpleImputer\n",
    "\n",
    "\n",
    "imputed_X_test = imputed_X_test"
   ]
  },
  {
   "cell_type": "code",
   "execution_count": 26,
   "id": "9f48b93b",
   "metadata": {
    "execution": {
     "iopub.execute_input": "2022-10-22T12:38:17.766786Z",
     "iopub.status.busy": "2022-10-22T12:38:17.766100Z",
     "iopub.status.idle": "2022-10-22T12:38:17.817016Z",
     "shell.execute_reply": "2022-10-22T12:38:17.815706Z"
    },
    "papermill": {
     "duration": 0.068747,
     "end_time": "2022-10-22T12:38:17.820004",
     "exception": false,
     "start_time": "2022-10-22T12:38:17.751257",
     "status": "completed"
    },
    "tags": []
   },
   "outputs": [
    {
     "data": {
      "application/javascript": [
       "parent.postMessage({\"jupyterEvent\": \"custom.exercise_interaction\", \"data\": {\"outcomeType\": 1, \"valueTowardsCompletion\": 1.0, \"interactionType\": 1, \"questionType\": 2, \"questionId\": \"4.2_PredsCodeB\", \"learnToolsVersion\": \"0.3.4\", \"failureMessage\": \"\", \"exceptionClass\": \"\", \"trace\": \"\"}}, \"*\")"
      ],
      "text/plain": [
       "<IPython.core.display.Javascript object>"
      ]
     },
     "metadata": {},
     "output_type": "display_data"
    },
    {
     "data": {
      "text/markdown": [
       "<span style=\"color:#33cc33\">Correct</span>"
      ],
      "text/plain": [
       "Correct"
      ]
     },
     "metadata": {},
     "output_type": "display_data"
    }
   ],
   "source": [
    "# Fill in the line below: preprocess test data\n",
    "final_X_test = imputed_X_test\n",
    "\n",
    "# Fill in the line below: get test predictions\n",
    "preds_test = model.predict(final_X_test)\n",
    "\n",
    "# Check your answers\n",
    "step_4.b.check()"
   ]
  },
  {
   "cell_type": "code",
   "execution_count": 27,
   "id": "d70cbc5b",
   "metadata": {
    "execution": {
     "iopub.execute_input": "2022-10-22T12:38:17.850319Z",
     "iopub.status.busy": "2022-10-22T12:38:17.849088Z",
     "iopub.status.idle": "2022-10-22T12:38:17.855728Z",
     "shell.execute_reply": "2022-10-22T12:38:17.854791Z"
    },
    "papermill": {
     "duration": 0.024097,
     "end_time": "2022-10-22T12:38:17.857814",
     "exception": false,
     "start_time": "2022-10-22T12:38:17.833717",
     "status": "completed"
    },
    "tags": []
   },
   "outputs": [
    {
     "data": {
      "text/plain": [
       "(1459, 36)"
      ]
     },
     "execution_count": 27,
     "metadata": {},
     "output_type": "execute_result"
    }
   ],
   "source": [
    "final_X_test.shape"
   ]
  },
  {
   "cell_type": "code",
   "execution_count": 28,
   "id": "11ecfe17",
   "metadata": {
    "execution": {
     "iopub.execute_input": "2022-10-22T12:38:17.887464Z",
     "iopub.status.busy": "2022-10-22T12:38:17.886682Z",
     "iopub.status.idle": "2022-10-22T12:38:17.891817Z",
     "shell.execute_reply": "2022-10-22T12:38:17.890889Z"
    },
    "papermill": {
     "duration": 0.022327,
     "end_time": "2022-10-22T12:38:17.893959",
     "exception": false,
     "start_time": "2022-10-22T12:38:17.871632",
     "status": "completed"
    },
    "tags": []
   },
   "outputs": [],
   "source": [
    "# Lines below will give you a hint or solution code\n",
    "#step_4.b.hint()\n",
    "#step_4.b.solution()"
   ]
  },
  {
   "cell_type": "markdown",
   "id": "27bd43ab",
   "metadata": {
    "papermill": {
     "duration": 0.01316,
     "end_time": "2022-10-22T12:38:17.920618",
     "exception": false,
     "start_time": "2022-10-22T12:38:17.907458",
     "status": "completed"
    },
    "tags": []
   },
   "source": [
    "Run the next code cell without changes to save your results to a CSV file that can be submitted directly to the competition."
   ]
  },
  {
   "cell_type": "code",
   "execution_count": 29,
   "id": "a822b1a8",
   "metadata": {
    "execution": {
     "iopub.execute_input": "2022-10-22T12:38:17.950370Z",
     "iopub.status.busy": "2022-10-22T12:38:17.949089Z",
     "iopub.status.idle": "2022-10-22T12:38:17.961594Z",
     "shell.execute_reply": "2022-10-22T12:38:17.960633Z"
    },
    "papermill": {
     "duration": 0.030081,
     "end_time": "2022-10-22T12:38:17.964357",
     "exception": false,
     "start_time": "2022-10-22T12:38:17.934276",
     "status": "completed"
    },
    "tags": []
   },
   "outputs": [],
   "source": [
    "# Save test predictions to file\n",
    "output = pd.DataFrame({'Id': X_test.index,\n",
    "                       'SalePrice': preds_test})\n",
    "output.to_csv('submission.csv', index=False)"
   ]
  },
  {
   "cell_type": "markdown",
   "id": "c3a80b52",
   "metadata": {
    "papermill": {
     "duration": 0.013506,
     "end_time": "2022-10-22T12:38:17.991480",
     "exception": false,
     "start_time": "2022-10-22T12:38:17.977974",
     "status": "completed"
    },
    "tags": []
   },
   "source": [
    "# Submit your results\n",
    "\n",
    "Once you have successfully completed Step 4, you're ready to submit your results to the leaderboard!  (_You also learned how to do this in the previous exercise.  If you need a reminder of how to do this, please use the instructions below._)  \n",
    "\n",
    "First, you'll need to join the competition if you haven't already.  So open a new window by clicking on [this link](https://www.kaggle.com/c/home-data-for-ml-course).  Then click on the **Join Competition** button.\n",
    "\n",
    "![join competition image](https://i.imgur.com/wLmFtH3.png)\n",
    "\n",
    "Next, follow the instructions below:\n",
    "1. Begin by clicking on the **Save Version** button in the top right corner of the window.  This will generate a pop-up window.  \n",
    "2. Ensure that the **Save and Run All** option is selected, and then click on the **Save** button.\n",
    "3. This generates a window in the bottom left corner of the notebook.  After it has finished running, click on the number to the right of the **Save Version** button.  This pulls up a list of versions on the right of the screen.  Click on the ellipsis **(...)** to the right of the most recent version, and select **Open in Viewer**.  This brings you into view mode of the same page. You will need to scroll down to get back to these instructions.\n",
    "4. Click on the **Output** tab on the right of the screen.  Then, click on the file you would like to submit, and click on the **Submit** button to submit your results to the leaderboard.\n",
    "\n",
    "You have now successfully submitted to the competition!\n",
    "\n",
    "If you want to keep working to improve your performance, select the **Edit** button in the top right of the screen. Then you can change your code and repeat the process. There's a lot of room to improve, and you will climb up the leaderboard as you work.\n",
    "\n",
    "\n",
    "# Keep going\n",
    "\n",
    "Move on to learn what **[categorical variables](https://www.kaggle.com/alexisbcook/categorical-variables)** are, along with how to incorporate them into your machine learning models.  Categorical variables are very common in real-world data, but you'll get an error if you try to plug them into your models without processing them first!"
   ]
  },
  {
   "cell_type": "markdown",
   "id": "cc548c86",
   "metadata": {
    "papermill": {
     "duration": 0.013301,
     "end_time": "2022-10-22T12:38:18.018381",
     "exception": false,
     "start_time": "2022-10-22T12:38:18.005080",
     "status": "completed"
    },
    "tags": []
   },
   "source": [
    "---\n",
    "\n",
    "\n",
    "\n",
    "\n",
    "*Have questions or comments? Visit the [course discussion forum](https://www.kaggle.com/learn/intermediate-machine-learning/discussion) to chat with other learners.*"
   ]
  }
 ],
 "metadata": {
  "kernelspec": {
   "display_name": "Python 3",
   "language": "python",
   "name": "python3"
  },
  "language_info": {
   "codemirror_mode": {
    "name": "ipython",
    "version": 3
   },
   "file_extension": ".py",
   "mimetype": "text/x-python",
   "name": "python",
   "nbconvert_exporter": "python",
   "pygments_lexer": "ipython3",
   "version": "3.7.12"
  },
  "papermill": {
   "default_parameters": {},
   "duration": 17.17771,
   "end_time": "2022-10-22T12:38:18.753397",
   "environment_variables": {},
   "exception": null,
   "input_path": "__notebook__.ipynb",
   "output_path": "__notebook__.ipynb",
   "parameters": {},
   "start_time": "2022-10-22T12:38:01.575687",
   "version": "2.3.4"
  }
 },
 "nbformat": 4,
 "nbformat_minor": 5
}
