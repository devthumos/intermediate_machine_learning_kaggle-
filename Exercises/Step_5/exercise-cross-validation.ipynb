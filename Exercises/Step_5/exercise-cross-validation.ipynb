{
 "cells": [
  {
   "cell_type": "markdown",
   "id": "a44145ec",
   "metadata": {
    "papermill": {
     "duration": 0.006919,
     "end_time": "2022-10-22T12:28:26.915605",
     "exception": false,
     "start_time": "2022-10-22T12:28:26.908686",
     "status": "completed"
    },
    "tags": []
   },
   "source": [
    "**This notebook is an exercise in the [Intermediate Machine Learning](https://www.kaggle.com/learn/intermediate-machine-learning) course.  You can reference the tutorial at [this link](https://www.kaggle.com/alexisbcook/cross-validation).**\n",
    "\n",
    "---\n"
   ]
  },
  {
   "cell_type": "markdown",
   "id": "4c4281b0",
   "metadata": {
    "papermill": {
     "duration": 0.005367,
     "end_time": "2022-10-22T12:28:26.926926",
     "exception": false,
     "start_time": "2022-10-22T12:28:26.921559",
     "status": "completed"
    },
    "tags": []
   },
   "source": [
    "In this exercise, you will leverage what you've learned to tune a machine learning model with **cross-validation**.\n",
    "\n",
    "# Setup\n",
    "\n",
    "The questions below will give you feedback on your work. Run the following cell to set up the feedback system."
   ]
  },
  {
   "cell_type": "code",
   "execution_count": 1,
   "id": "0b00f1c1",
   "metadata": {
    "execution": {
     "iopub.execute_input": "2022-10-22T12:28:26.940950Z",
     "iopub.status.busy": "2022-10-22T12:28:26.940495Z",
     "iopub.status.idle": "2022-10-22T12:28:26.998916Z",
     "shell.execute_reply": "2022-10-22T12:28:26.997651Z"
    },
    "papermill": {
     "duration": 0.069542,
     "end_time": "2022-10-22T12:28:27.002656",
     "exception": false,
     "start_time": "2022-10-22T12:28:26.933114",
     "status": "completed"
    },
    "tags": []
   },
   "outputs": [
    {
     "name": "stdout",
     "output_type": "stream",
     "text": [
      "Setup Complete\n"
     ]
    }
   ],
   "source": [
    "# Set up code checking\n",
    "import os\n",
    "if not os.path.exists(\"../input/train.csv\"):\n",
    "    os.symlink(\"../input/home-data-for-ml-course/train.csv\", \"../input/train.csv\")  \n",
    "    os.symlink(\"../input/home-data-for-ml-course/test.csv\", \"../input/test.csv\") \n",
    "from learntools.core import binder\n",
    "binder.bind(globals())\n",
    "from learntools.ml_intermediate.ex5 import *\n",
    "print(\"Setup Complete\")"
   ]
  },
  {
   "cell_type": "markdown",
   "id": "09c57987",
   "metadata": {
    "papermill": {
     "duration": 0.005713,
     "end_time": "2022-10-22T12:28:27.015563",
     "exception": false,
     "start_time": "2022-10-22T12:28:27.009850",
     "status": "completed"
    },
    "tags": []
   },
   "source": [
    "You will work with the [Housing Prices Competition for Kaggle Learn Users](https://www.kaggle.com/c/home-data-for-ml-course) from the previous exercise. \n",
    "\n",
    "![Ames Housing dataset image](https://i.imgur.com/lTJVG4e.png)\n",
    "\n",
    "Run the next code cell without changes to load the training and test data in `X` and `X_test`.  For simplicity, we drop categorical variables."
   ]
  },
  {
   "cell_type": "code",
   "execution_count": 2,
   "id": "b454a56b",
   "metadata": {
    "execution": {
     "iopub.execute_input": "2022-10-22T12:28:27.028976Z",
     "iopub.status.busy": "2022-10-22T12:28:27.028570Z",
     "iopub.status.idle": "2022-10-22T12:28:28.296181Z",
     "shell.execute_reply": "2022-10-22T12:28:28.295079Z"
    },
    "papermill": {
     "duration": 1.27758,
     "end_time": "2022-10-22T12:28:28.298930",
     "exception": false,
     "start_time": "2022-10-22T12:28:27.021350",
     "status": "completed"
    },
    "tags": []
   },
   "outputs": [],
   "source": [
    "import pandas as pd\n",
    "from sklearn.model_selection import train_test_split\n",
    "\n",
    "# Read the data\n",
    "train_data = pd.read_csv('../input/train.csv', index_col='Id')\n",
    "test_data = pd.read_csv('../input/test.csv', index_col='Id')\n",
    "\n",
    "# Remove rows with missing target, separate target from predictors\n",
    "train_data.dropna(axis=0, subset=['SalePrice'], inplace=True)\n",
    "y = train_data.SalePrice              \n",
    "train_data.drop(['SalePrice'], axis=1, inplace=True)\n",
    "\n",
    "# Select numeric columns only\n",
    "numeric_cols = [cname for cname in train_data.columns if train_data[cname].dtype in ['int64', 'float64']]\n",
    "X = train_data[numeric_cols].copy()\n",
    "X_test = test_data[numeric_cols].copy()"
   ]
  },
  {
   "cell_type": "markdown",
   "id": "3768e615",
   "metadata": {
    "papermill": {
     "duration": 0.005547,
     "end_time": "2022-10-22T12:28:28.310310",
     "exception": false,
     "start_time": "2022-10-22T12:28:28.304763",
     "status": "completed"
    },
    "tags": []
   },
   "source": [
    "Use the next code cell to print the first several rows of the data."
   ]
  },
  {
   "cell_type": "code",
   "execution_count": 3,
   "id": "fa1850af",
   "metadata": {
    "execution": {
     "iopub.execute_input": "2022-10-22T12:28:28.323711Z",
     "iopub.status.busy": "2022-10-22T12:28:28.323297Z",
     "iopub.status.idle": "2022-10-22T12:28:28.354035Z",
     "shell.execute_reply": "2022-10-22T12:28:28.352892Z"
    },
    "papermill": {
     "duration": 0.040281,
     "end_time": "2022-10-22T12:28:28.356377",
     "exception": false,
     "start_time": "2022-10-22T12:28:28.316096",
     "status": "completed"
    },
    "tags": []
   },
   "outputs": [
    {
     "data": {
      "text/html": [
       "<div>\n",
       "<style scoped>\n",
       "    .dataframe tbody tr th:only-of-type {\n",
       "        vertical-align: middle;\n",
       "    }\n",
       "\n",
       "    .dataframe tbody tr th {\n",
       "        vertical-align: top;\n",
       "    }\n",
       "\n",
       "    .dataframe thead th {\n",
       "        text-align: right;\n",
       "    }\n",
       "</style>\n",
       "<table border=\"1\" class=\"dataframe\">\n",
       "  <thead>\n",
       "    <tr style=\"text-align: right;\">\n",
       "      <th></th>\n",
       "      <th>MSSubClass</th>\n",
       "      <th>LotFrontage</th>\n",
       "      <th>LotArea</th>\n",
       "      <th>OverallQual</th>\n",
       "      <th>OverallCond</th>\n",
       "      <th>YearBuilt</th>\n",
       "      <th>YearRemodAdd</th>\n",
       "      <th>MasVnrArea</th>\n",
       "      <th>BsmtFinSF1</th>\n",
       "      <th>BsmtFinSF2</th>\n",
       "      <th>...</th>\n",
       "      <th>GarageArea</th>\n",
       "      <th>WoodDeckSF</th>\n",
       "      <th>OpenPorchSF</th>\n",
       "      <th>EnclosedPorch</th>\n",
       "      <th>3SsnPorch</th>\n",
       "      <th>ScreenPorch</th>\n",
       "      <th>PoolArea</th>\n",
       "      <th>MiscVal</th>\n",
       "      <th>MoSold</th>\n",
       "      <th>YrSold</th>\n",
       "    </tr>\n",
       "    <tr>\n",
       "      <th>Id</th>\n",
       "      <th></th>\n",
       "      <th></th>\n",
       "      <th></th>\n",
       "      <th></th>\n",
       "      <th></th>\n",
       "      <th></th>\n",
       "      <th></th>\n",
       "      <th></th>\n",
       "      <th></th>\n",
       "      <th></th>\n",
       "      <th></th>\n",
       "      <th></th>\n",
       "      <th></th>\n",
       "      <th></th>\n",
       "      <th></th>\n",
       "      <th></th>\n",
       "      <th></th>\n",
       "      <th></th>\n",
       "      <th></th>\n",
       "      <th></th>\n",
       "      <th></th>\n",
       "    </tr>\n",
       "  </thead>\n",
       "  <tbody>\n",
       "    <tr>\n",
       "      <th>1</th>\n",
       "      <td>60</td>\n",
       "      <td>65.0</td>\n",
       "      <td>8450</td>\n",
       "      <td>7</td>\n",
       "      <td>5</td>\n",
       "      <td>2003</td>\n",
       "      <td>2003</td>\n",
       "      <td>196.0</td>\n",
       "      <td>706</td>\n",
       "      <td>0</td>\n",
       "      <td>...</td>\n",
       "      <td>548</td>\n",
       "      <td>0</td>\n",
       "      <td>61</td>\n",
       "      <td>0</td>\n",
       "      <td>0</td>\n",
       "      <td>0</td>\n",
       "      <td>0</td>\n",
       "      <td>0</td>\n",
       "      <td>2</td>\n",
       "      <td>2008</td>\n",
       "    </tr>\n",
       "    <tr>\n",
       "      <th>2</th>\n",
       "      <td>20</td>\n",
       "      <td>80.0</td>\n",
       "      <td>9600</td>\n",
       "      <td>6</td>\n",
       "      <td>8</td>\n",
       "      <td>1976</td>\n",
       "      <td>1976</td>\n",
       "      <td>0.0</td>\n",
       "      <td>978</td>\n",
       "      <td>0</td>\n",
       "      <td>...</td>\n",
       "      <td>460</td>\n",
       "      <td>298</td>\n",
       "      <td>0</td>\n",
       "      <td>0</td>\n",
       "      <td>0</td>\n",
       "      <td>0</td>\n",
       "      <td>0</td>\n",
       "      <td>0</td>\n",
       "      <td>5</td>\n",
       "      <td>2007</td>\n",
       "    </tr>\n",
       "    <tr>\n",
       "      <th>3</th>\n",
       "      <td>60</td>\n",
       "      <td>68.0</td>\n",
       "      <td>11250</td>\n",
       "      <td>7</td>\n",
       "      <td>5</td>\n",
       "      <td>2001</td>\n",
       "      <td>2002</td>\n",
       "      <td>162.0</td>\n",
       "      <td>486</td>\n",
       "      <td>0</td>\n",
       "      <td>...</td>\n",
       "      <td>608</td>\n",
       "      <td>0</td>\n",
       "      <td>42</td>\n",
       "      <td>0</td>\n",
       "      <td>0</td>\n",
       "      <td>0</td>\n",
       "      <td>0</td>\n",
       "      <td>0</td>\n",
       "      <td>9</td>\n",
       "      <td>2008</td>\n",
       "    </tr>\n",
       "    <tr>\n",
       "      <th>4</th>\n",
       "      <td>70</td>\n",
       "      <td>60.0</td>\n",
       "      <td>9550</td>\n",
       "      <td>7</td>\n",
       "      <td>5</td>\n",
       "      <td>1915</td>\n",
       "      <td>1970</td>\n",
       "      <td>0.0</td>\n",
       "      <td>216</td>\n",
       "      <td>0</td>\n",
       "      <td>...</td>\n",
       "      <td>642</td>\n",
       "      <td>0</td>\n",
       "      <td>35</td>\n",
       "      <td>272</td>\n",
       "      <td>0</td>\n",
       "      <td>0</td>\n",
       "      <td>0</td>\n",
       "      <td>0</td>\n",
       "      <td>2</td>\n",
       "      <td>2006</td>\n",
       "    </tr>\n",
       "    <tr>\n",
       "      <th>5</th>\n",
       "      <td>60</td>\n",
       "      <td>84.0</td>\n",
       "      <td>14260</td>\n",
       "      <td>8</td>\n",
       "      <td>5</td>\n",
       "      <td>2000</td>\n",
       "      <td>2000</td>\n",
       "      <td>350.0</td>\n",
       "      <td>655</td>\n",
       "      <td>0</td>\n",
       "      <td>...</td>\n",
       "      <td>836</td>\n",
       "      <td>192</td>\n",
       "      <td>84</td>\n",
       "      <td>0</td>\n",
       "      <td>0</td>\n",
       "      <td>0</td>\n",
       "      <td>0</td>\n",
       "      <td>0</td>\n",
       "      <td>12</td>\n",
       "      <td>2008</td>\n",
       "    </tr>\n",
       "  </tbody>\n",
       "</table>\n",
       "<p>5 rows × 36 columns</p>\n",
       "</div>"
      ],
      "text/plain": [
       "    MSSubClass  LotFrontage  LotArea  OverallQual  OverallCond  YearBuilt  \\\n",
       "Id                                                                          \n",
       "1           60         65.0     8450            7            5       2003   \n",
       "2           20         80.0     9600            6            8       1976   \n",
       "3           60         68.0    11250            7            5       2001   \n",
       "4           70         60.0     9550            7            5       1915   \n",
       "5           60         84.0    14260            8            5       2000   \n",
       "\n",
       "    YearRemodAdd  MasVnrArea  BsmtFinSF1  BsmtFinSF2  ...  GarageArea  \\\n",
       "Id                                                    ...               \n",
       "1           2003       196.0         706           0  ...         548   \n",
       "2           1976         0.0         978           0  ...         460   \n",
       "3           2002       162.0         486           0  ...         608   \n",
       "4           1970         0.0         216           0  ...         642   \n",
       "5           2000       350.0         655           0  ...         836   \n",
       "\n",
       "    WoodDeckSF  OpenPorchSF  EnclosedPorch  3SsnPorch  ScreenPorch  PoolArea  \\\n",
       "Id                                                                             \n",
       "1            0           61              0          0            0         0   \n",
       "2          298            0              0          0            0         0   \n",
       "3            0           42              0          0            0         0   \n",
       "4            0           35            272          0            0         0   \n",
       "5          192           84              0          0            0         0   \n",
       "\n",
       "    MiscVal  MoSold  YrSold  \n",
       "Id                           \n",
       "1         0       2    2008  \n",
       "2         0       5    2007  \n",
       "3         0       9    2008  \n",
       "4         0       2    2006  \n",
       "5         0      12    2008  \n",
       "\n",
       "[5 rows x 36 columns]"
      ]
     },
     "execution_count": 3,
     "metadata": {},
     "output_type": "execute_result"
    }
   ],
   "source": [
    "X.head()"
   ]
  },
  {
   "cell_type": "markdown",
   "id": "b16e81bd",
   "metadata": {
    "papermill": {
     "duration": 0.007285,
     "end_time": "2022-10-22T12:28:28.369796",
     "exception": false,
     "start_time": "2022-10-22T12:28:28.362511",
     "status": "completed"
    },
    "tags": []
   },
   "source": [
    "So far, you've learned how to build pipelines with scikit-learn.  For instance, the pipeline below will use [`SimpleImputer()`](https://scikit-learn.org/stable/modules/generated/sklearn.impute.SimpleImputer.html) to replace missing values in the data, before using [`RandomForestRegressor()`](https://scikit-learn.org/stable/modules/generated/sklearn.ensemble.RandomForestRegressor.html) to train a random forest model to make predictions.  We set the number of trees in the random forest model with the `n_estimators` parameter, and setting `random_state` ensures reproducibility."
   ]
  },
  {
   "cell_type": "code",
   "execution_count": 4,
   "id": "b5b6a8e0",
   "metadata": {
    "execution": {
     "iopub.execute_input": "2022-10-22T12:28:28.383590Z",
     "iopub.status.busy": "2022-10-22T12:28:28.383154Z",
     "iopub.status.idle": "2022-10-22T12:28:28.602918Z",
     "shell.execute_reply": "2022-10-22T12:28:28.601668Z"
    },
    "papermill": {
     "duration": 0.229931,
     "end_time": "2022-10-22T12:28:28.605686",
     "exception": false,
     "start_time": "2022-10-22T12:28:28.375755",
     "status": "completed"
    },
    "tags": []
   },
   "outputs": [],
   "source": [
    "from sklearn.ensemble import RandomForestRegressor\n",
    "from sklearn.pipeline import Pipeline\n",
    "from sklearn.impute import SimpleImputer\n",
    "\n",
    "my_pipeline = Pipeline(steps=[\n",
    "    ('preprocessor', SimpleImputer()),\n",
    "    ('model', RandomForestRegressor(n_estimators=50, random_state=0))\n",
    "])"
   ]
  },
  {
   "cell_type": "markdown",
   "id": "2239d8ea",
   "metadata": {
    "papermill": {
     "duration": 0.005811,
     "end_time": "2022-10-22T12:28:28.618088",
     "exception": false,
     "start_time": "2022-10-22T12:28:28.612277",
     "status": "completed"
    },
    "tags": []
   },
   "source": [
    "You have also learned how to use pipelines in cross-validation.  The code below uses the [`cross_val_score()`](https://scikit-learn.org/stable/modules/generated/sklearn.model_selection.cross_val_score.html) function to obtain the mean absolute error (MAE), averaged across five different folds.  Recall we set the number of folds with the `cv` parameter."
   ]
  },
  {
   "cell_type": "code",
   "execution_count": 5,
   "id": "5ae24e4e",
   "metadata": {
    "execution": {
     "iopub.execute_input": "2022-10-22T12:28:28.632214Z",
     "iopub.status.busy": "2022-10-22T12:28:28.631803Z",
     "iopub.status.idle": "2022-10-22T12:28:31.789420Z",
     "shell.execute_reply": "2022-10-22T12:28:31.787925Z"
    },
    "papermill": {
     "duration": 3.167809,
     "end_time": "2022-10-22T12:28:31.792221",
     "exception": false,
     "start_time": "2022-10-22T12:28:28.624412",
     "status": "completed"
    },
    "tags": []
   },
   "outputs": [
    {
     "name": "stdout",
     "output_type": "stream",
     "text": [
      "Average MAE score: 18276.410356164386\n"
     ]
    }
   ],
   "source": [
    "from sklearn.model_selection import cross_val_score\n",
    "\n",
    "# Multiply by -1 since sklearn calculates *negative* MAE\n",
    "scores = -1 * cross_val_score(my_pipeline, X, y,\n",
    "                              cv=5,\n",
    "                              scoring='neg_mean_absolute_error')\n",
    "\n",
    "print(\"Average MAE score:\", scores.mean())"
   ]
  },
  {
   "cell_type": "markdown",
   "id": "e1ae5437",
   "metadata": {
    "papermill": {
     "duration": 0.006011,
     "end_time": "2022-10-22T12:28:31.805106",
     "exception": false,
     "start_time": "2022-10-22T12:28:31.799095",
     "status": "completed"
    },
    "tags": []
   },
   "source": [
    "# Step 1: Write a useful function\n",
    "\n",
    "In this exercise, you'll use cross-validation to select parameters for a machine learning model.\n",
    "\n",
    "Begin by writing a function `get_score()` that reports the average (over three cross-validation folds) MAE of a machine learning pipeline that uses:\n",
    "- the data in `X` and `y` to create folds,\n",
    "- `SimpleImputer()` (with all parameters left as default) to replace missing values, and\n",
    "- `RandomForestRegressor()` (with `random_state=0`) to fit a random forest model.\n",
    "\n",
    "The `n_estimators` parameter supplied to `get_score()` is used when setting the number of trees in the random forest model.  "
   ]
  },
  {
   "cell_type": "code",
   "execution_count": 6,
   "id": "5c680f7b",
   "metadata": {
    "execution": {
     "iopub.execute_input": "2022-10-22T12:28:31.820027Z",
     "iopub.status.busy": "2022-10-22T12:28:31.819016Z",
     "iopub.status.idle": "2022-10-22T12:28:31.826545Z",
     "shell.execute_reply": "2022-10-22T12:28:31.825170Z"
    },
    "papermill": {
     "duration": 0.01754,
     "end_time": "2022-10-22T12:28:31.828918",
     "exception": false,
     "start_time": "2022-10-22T12:28:31.811378",
     "status": "completed"
    },
    "tags": []
   },
   "outputs": [
    {
     "data": {
      "text/plain": [
       "(1460, 36)"
      ]
     },
     "execution_count": 6,
     "metadata": {},
     "output_type": "execute_result"
    }
   ],
   "source": [
    "X.shape"
   ]
  },
  {
   "cell_type": "code",
   "execution_count": 7,
   "id": "51e75ac2",
   "metadata": {
    "execution": {
     "iopub.execute_input": "2022-10-22T12:28:31.844307Z",
     "iopub.status.busy": "2022-10-22T12:28:31.843502Z",
     "iopub.status.idle": "2022-10-22T12:28:32.852299Z",
     "shell.execute_reply": "2022-10-22T12:28:32.851505Z"
    },
    "papermill": {
     "duration": 1.018985,
     "end_time": "2022-10-22T12:28:32.854329",
     "exception": false,
     "start_time": "2022-10-22T12:28:31.835344",
     "status": "completed"
    },
    "tags": []
   },
   "outputs": [
    {
     "data": {
      "application/javascript": [
       "parent.postMessage({\"jupyterEvent\": \"custom.exercise_interaction\", \"data\": {\"outcomeType\": 1, \"valueTowardsCompletion\": 0.3333333333333333, \"interactionType\": 1, \"questionType\": 2, \"questionId\": \"1_GetScore\", \"learnToolsVersion\": \"0.3.4\", \"failureMessage\": \"\", \"exceptionClass\": \"\", \"trace\": \"\"}}, \"*\")"
      ],
      "text/plain": [
       "<IPython.core.display.Javascript object>"
      ]
     },
     "metadata": {},
     "output_type": "display_data"
    },
    {
     "data": {
      "text/markdown": [
       "<span style=\"color:#33cc33\">Correct</span>"
      ],
      "text/plain": [
       "Correct"
      ]
     },
     "metadata": {},
     "output_type": "display_data"
    }
   ],
   "source": [
    "from sklearn.model_selection import cross_val_score\n",
    "def get_score(n_estimators):\n",
    "    \"\"\"Return the average MAE over 3 CV folds of random forest model.\n",
    "    \n",
    "    Keyword argument:\n",
    "    n_estimators -- the number of trees in the forest\n",
    "    \"\"\"\n",
    "    my_pipeline = Pipeline(steps=[\n",
    "    ('preprocessor', SimpleImputer()),\n",
    "    ('model', RandomForestRegressor(n_estimators=n_estimators, random_state=0))\n",
    "])\n",
    "    \n",
    "    score = -1 * cross_val_score(my_pipeline, X, y, cv=3, scoring=\"neg_mean_absolute_error\")\n",
    "    return score.mean()\n",
    "\n",
    "# Check your answer\n",
    "step_1.check()"
   ]
  },
  {
   "cell_type": "code",
   "execution_count": 8,
   "id": "bea9514f",
   "metadata": {
    "execution": {
     "iopub.execute_input": "2022-10-22T12:28:32.870343Z",
     "iopub.status.busy": "2022-10-22T12:28:32.869949Z",
     "iopub.status.idle": "2022-10-22T12:28:32.874696Z",
     "shell.execute_reply": "2022-10-22T12:28:32.873536Z"
    },
    "papermill": {
     "duration": 0.015552,
     "end_time": "2022-10-22T12:28:32.876962",
     "exception": false,
     "start_time": "2022-10-22T12:28:32.861410",
     "status": "completed"
    },
    "tags": []
   },
   "outputs": [],
   "source": [
    "# Lines below will give you a hint or solution code\n",
    "#step_1.hint()\n",
    "#step_1.solution()"
   ]
  },
  {
   "cell_type": "markdown",
   "id": "fef2acab",
   "metadata": {
    "papermill": {
     "duration": 0.006471,
     "end_time": "2022-10-22T12:28:32.890147",
     "exception": false,
     "start_time": "2022-10-22T12:28:32.883676",
     "status": "completed"
    },
    "tags": []
   },
   "source": [
    "# Step 2: Test different parameter values\n",
    "\n",
    "Now, you will use the function that you defined in Step 1 to evaluate the model performance corresponding to eight different values for the number of trees in the random forest: 50, 100, 150, ..., 300, 350, 400.\n",
    "\n",
    "Store your results in a Python dictionary `results`, where `results[i]` is the average MAE returned by `get_score(i)`."
   ]
  },
  {
   "cell_type": "code",
   "execution_count": 9,
   "id": "0940e453",
   "metadata": {
    "execution": {
     "iopub.execute_input": "2022-10-22T12:28:32.905395Z",
     "iopub.status.busy": "2022-10-22T12:28:32.904641Z",
     "iopub.status.idle": "2022-10-22T12:29:28.313954Z",
     "shell.execute_reply": "2022-10-22T12:29:28.312822Z"
    },
    "papermill": {
     "duration": 55.42646,
     "end_time": "2022-10-22T12:29:28.323280",
     "exception": false,
     "start_time": "2022-10-22T12:28:32.896820",
     "status": "completed"
    },
    "tags": []
   },
   "outputs": [
    {
     "data": {
      "application/javascript": [
       "parent.postMessage({\"jupyterEvent\": \"custom.exercise_interaction\", \"data\": {\"outcomeType\": 1, \"valueTowardsCompletion\": 0.3333333333333333, \"interactionType\": 1, \"questionType\": 2, \"questionId\": \"2_GetDict\", \"learnToolsVersion\": \"0.3.4\", \"failureMessage\": \"\", \"exceptionClass\": \"\", \"trace\": \"\"}}, \"*\")"
      ],
      "text/plain": [
       "<IPython.core.display.Javascript object>"
      ]
     },
     "metadata": {},
     "output_type": "display_data"
    },
    {
     "data": {
      "text/markdown": [
       "<span style=\"color:#33cc33\">Correct</span>"
      ],
      "text/plain": [
       "Correct"
      ]
     },
     "metadata": {},
     "output_type": "display_data"
    }
   ],
   "source": [
    "results = {i:get_score(i) for i in range(50, 401, 50)}\n",
    "\n",
    "# Check your answer\n",
    "step_2.check()"
   ]
  },
  {
   "cell_type": "code",
   "execution_count": 10,
   "id": "2c6c80cc",
   "metadata": {
    "execution": {
     "iopub.execute_input": "2022-10-22T12:29:28.338621Z",
     "iopub.status.busy": "2022-10-22T12:29:28.338188Z",
     "iopub.status.idle": "2022-10-22T12:29:28.344677Z",
     "shell.execute_reply": "2022-10-22T12:29:28.343469Z"
    },
    "papermill": {
     "duration": 0.017045,
     "end_time": "2022-10-22T12:29:28.347029",
     "exception": false,
     "start_time": "2022-10-22T12:29:28.329984",
     "status": "completed"
    },
    "tags": []
   },
   "outputs": [],
   "source": [
    "# Lines below will give you a hint or solution code\n",
    "#step_2.hint()\n",
    "#step_2.solution()"
   ]
  },
  {
   "cell_type": "markdown",
   "id": "6f0999e5",
   "metadata": {
    "papermill": {
     "duration": 0.006601,
     "end_time": "2022-10-22T12:29:28.360822",
     "exception": false,
     "start_time": "2022-10-22T12:29:28.354221",
     "status": "completed"
    },
    "tags": []
   },
   "source": [
    "Use the next cell to visualize your results from Step 2.  Run the code without changes."
   ]
  },
  {
   "cell_type": "code",
   "execution_count": 11,
   "id": "84f0a50f",
   "metadata": {
    "execution": {
     "iopub.execute_input": "2022-10-22T12:29:28.376325Z",
     "iopub.status.busy": "2022-10-22T12:29:28.375902Z",
     "iopub.status.idle": "2022-10-22T12:29:29.087770Z",
     "shell.execute_reply": "2022-10-22T12:29:29.086469Z"
    },
    "papermill": {
     "duration": 0.723063,
     "end_time": "2022-10-22T12:29:29.090801",
     "exception": false,
     "start_time": "2022-10-22T12:29:28.367738",
     "status": "completed"
    },
    "tags": []
   },
   "outputs": [
    {
     "name": "stderr",
     "output_type": "stream",
     "text": [
      "/opt/conda/lib/python3.7/site-packages/seaborn/_decorators.py:43: FutureWarning: Pass the following variables as keyword args: x, y. From version 0.12, the only valid positional argument will be `data`, and passing other arguments without an explicit keyword will result in an error or misinterpretation.\n",
      "  FutureWarning\n"
     ]
    },
    {
     "data": {
      "image/png": "[encoded data removed]",
      "text/plain": [
       "<Figure size 1440x2880 with 1 Axes>"
      ]
     },
     "metadata": {
      "needs_background": "light"
     },
     "output_type": "display_data"
    }
   ],
   "source": [
    "import matplotlib.pyplot as plt\n",
    "import seaborn as sns\n",
    "import pandas as pd\n",
    "import numpy as np\n",
    "pd.plotting.register_matplotlib_converters()\n",
    "%matplotlib inline\n",
    "\n",
    "plt.figure(figsize=(20,40))\n",
    "plt.title(\"3 KFold Cross Validation\")\n",
    "\n",
    "ax1 = sns.lineplot(list(results.keys()), list(results.values()), label=\"n_estimators\")\n",
    "plt.xlabel(\"Random Forest Classifer's n_estimators\")\n",
    "plt.ylabel(\"Cross Validation Folds Score Mean\")\n",
    "\n",
    "plt.tick_params(axis=\"x\", rotation=90)\n",
    "\n",
    "plt.xticks(np.arange(50, 401, 50))\n",
    "plt.xlim((50, 400))\n",
    "\n",
    "plt.show()"
   ]
  },
  {
   "cell_type": "markdown",
   "id": "19ed4459",
   "metadata": {
    "papermill": {
     "duration": 0.007902,
     "end_time": "2022-10-22T12:29:29.107019",
     "exception": false,
     "start_time": "2022-10-22T12:29:29.099117",
     "status": "completed"
    },
    "tags": []
   },
   "source": [
    "# Step 3: Find the best parameter value\n",
    "\n",
    "Given the results, which value for `n_estimators` seems best for the random forest model?  Use your answer to set the value of `n_estimators_best`."
   ]
  },
  {
   "cell_type": "code",
   "execution_count": 12,
   "id": "90223cf5",
   "metadata": {
    "execution": {
     "iopub.execute_input": "2022-10-22T12:29:29.126027Z",
     "iopub.status.busy": "2022-10-22T12:29:29.125183Z",
     "iopub.status.idle": "2022-10-22T12:29:29.135468Z",
     "shell.execute_reply": "2022-10-22T12:29:29.134618Z"
    },
    "papermill": {
     "duration": 0.022403,
     "end_time": "2022-10-22T12:29:29.137742",
     "exception": false,
     "start_time": "2022-10-22T12:29:29.115339",
     "status": "completed"
    },
    "tags": []
   },
   "outputs": [
    {
     "data": {
      "application/javascript": [
       "parent.postMessage({\"jupyterEvent\": \"custom.exercise_interaction\", \"data\": {\"outcomeType\": 1, \"valueTowardsCompletion\": 0.3333333333333333, \"interactionType\": 1, \"questionType\": 2, \"questionId\": \"3_BestEst\", \"learnToolsVersion\": \"0.3.4\", \"failureMessage\": \"\", \"exceptionClass\": \"\", \"trace\": \"\"}}, \"*\")"
      ],
      "text/plain": [
       "<IPython.core.display.Javascript object>"
      ]
     },
     "metadata": {},
     "output_type": "display_data"
    },
    {
     "data": {
      "text/markdown": [
       "<span style=\"color:#33cc33\">Correct</span>"
      ],
      "text/plain": [
       "Correct"
      ]
     },
     "metadata": {},
     "output_type": "display_data"
    }
   ],
   "source": [
    "results_list = list(results.items())\n",
    "results_list.sort(key=lambda x: x[1], reverse=False)\n",
    "n_estimators_best = results_list[0][0]\n",
    "\n",
    "# Check your answer\n",
    "step_3.check()"
   ]
  },
  {
   "cell_type": "code",
   "execution_count": 13,
   "id": "97064bdb",
   "metadata": {
    "execution": {
     "iopub.execute_input": "2022-10-22T12:29:29.157130Z",
     "iopub.status.busy": "2022-10-22T12:29:29.156312Z",
     "iopub.status.idle": "2022-10-22T12:29:29.160975Z",
     "shell.execute_reply": "2022-10-22T12:29:29.160224Z"
    },
    "papermill": {
     "duration": 0.016951,
     "end_time": "2022-10-22T12:29:29.163170",
     "exception": false,
     "start_time": "2022-10-22T12:29:29.146219",
     "status": "completed"
    },
    "tags": []
   },
   "outputs": [],
   "source": [
    "# Lines below will give you a hint or solution code\n",
    "#step_3.hint()\n",
    "#step_3.solution()"
   ]
  },
  {
   "cell_type": "markdown",
   "id": "a5d7c4b9",
   "metadata": {
    "papermill": {
     "duration": 0.008178,
     "end_time": "2022-10-22T12:29:29.179973",
     "exception": false,
     "start_time": "2022-10-22T12:29:29.171795",
     "status": "completed"
    },
    "tags": []
   },
   "source": [
    "In this exercise, you have explored one method for choosing appropriate parameters in a machine learning model.  \n",
    "\n",
    "If you'd like to learn more about [hyperparameter optimization](https://en.wikipedia.org/wiki/Hyperparameter_optimization), you're encouraged to start with **grid search**, which is a straightforward method for determining the best _combination_ of parameters for a machine learning model.  Thankfully, scikit-learn also contains a built-in function [`GridSearchCV()`](https://scikit-learn.org/stable/modules/generated/sklearn.model_selection.GridSearchCV.html) that can make your grid search code very efficient!\n",
    "\n",
    "# Keep going\n",
    "\n",
    "Continue to learn about **[gradient boosting](https://www.kaggle.com/alexisbcook/xgboost)**, a powerful technique that achieves state-of-the-art results on a variety of datasets."
   ]
  },
  {
   "cell_type": "markdown",
   "id": "153b1876",
   "metadata": {
    "papermill": {
     "duration": 0.008205,
     "end_time": "2022-10-22T12:29:29.196905",
     "exception": false,
     "start_time": "2022-10-22T12:29:29.188700",
     "status": "completed"
    },
    "tags": []
   },
   "source": [
    "---\n",
    "\n",
    "\n",
    "\n",
    "\n",
    "*Have questions or comments? Visit the [course discussion forum](https://www.kaggle.com/learn/intermediate-machine-learning/discussion) to chat with other learners.*"
   ]
  }
 ],
 "metadata": {
  "kernelspec": {
   "display_name": "Python 3",
   "language": "python",
   "name": "python3"
  },
  "language_info": {
   "codemirror_mode": {
    "name": "ipython",
    "version": 3
   },
   "file_extension": ".py",
   "mimetype": "text/x-python",
   "name": "python",
   "nbconvert_exporter": "python",
   "pygments_lexer": "ipython3",
   "version": "3.7.12"
  },
  "papermill": {
   "default_parameters": {},
   "duration": 71.917666,
   "end_time": "2022-10-22T12:29:30.027649",
   "environment_variables": {},
   "exception": null,
   "input_path": "__notebook__.ipynb",
   "output_path": "__notebook__.ipynb",
   "parameters": {},
   "start_time": "2022-10-22T12:28:18.109983",
   "version": "2.3.4"
  }
 },
 "nbformat": 4,
 "nbformat_minor": 5
}
