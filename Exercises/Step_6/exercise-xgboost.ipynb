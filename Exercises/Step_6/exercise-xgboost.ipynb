{
 "cells": [
  {
   "cell_type": "markdown",
   "id": "ae361e08",
   "metadata": {
    "papermill": {
     "duration": 0.007777,
     "end_time": "2022-10-22T10:12:12.664117",
     "exception": false,
     "start_time": "2022-10-22T10:12:12.656340",
     "status": "completed"
    },
    "tags": []
   },
   "source": [
    "**This notebook is an exercise in the [Intermediate Machine Learning](https://www.kaggle.com/learn/intermediate-machine-learning) course.  You can reference the tutorial at [this link](https://www.kaggle.com/alexisbcook/xgboost).**\n",
    "\n",
    "---\n"
   ]
  },
  {
   "cell_type": "markdown",
   "id": "8a965831",
   "metadata": {
    "papermill": {
     "duration": 0.004926,
     "end_time": "2022-10-22T10:12:12.674433",
     "exception": false,
     "start_time": "2022-10-22T10:12:12.669507",
     "status": "completed"
    },
    "tags": []
   },
   "source": [
    "In this exercise, you will use your new knowledge to train a model with **gradient boosting**.\n",
    "\n",
    "# Setup\n",
    "\n",
    "The questions below will give you feedback on your work. Run the following cell to set up the feedback system."
   ]
  },
  {
   "cell_type": "code",
   "execution_count": 1,
   "id": "ad765229",
   "metadata": {
    "execution": {
     "iopub.execute_input": "2022-10-22T10:12:12.687016Z",
     "iopub.status.busy": "2022-10-22T10:12:12.686491Z",
     "iopub.status.idle": "2022-10-22T10:12:15.213648Z",
     "shell.execute_reply": "2022-10-22T10:12:15.211838Z"
    },
    "papermill": {
     "duration": 2.537392,
     "end_time": "2022-10-22T10:12:15.217047",
     "exception": false,
     "start_time": "2022-10-22T10:12:12.679655",
     "status": "completed"
    },
    "tags": []
   },
   "outputs": [
    {
     "name": "stdout",
     "output_type": "stream",
     "text": [
      "Setup Complete\n"
     ]
    }
   ],
   "source": [
    "# Set up code checking\n",
    "import os\n",
    "if not os.path.exists(\"../input/train.csv\"):\n",
    "    os.symlink(\"../input/home-data-for-ml-course/train.csv\", \"../input/train.csv\")  \n",
    "    os.symlink(\"../input/home-data-for-ml-course/test.csv\", \"../input/test.csv\") \n",
    "from learntools.core import binder\n",
    "binder.bind(globals())\n",
    "from learntools.ml_intermediate.ex6 import *\n",
    "print(\"Setup Complete\")"
   ]
  },
  {
   "cell_type": "markdown",
   "id": "e49dffb8",
   "metadata": {
    "papermill": {
     "duration": 0.005456,
     "end_time": "2022-10-22T10:12:15.228982",
     "exception": false,
     "start_time": "2022-10-22T10:12:15.223526",
     "status": "completed"
    },
    "tags": []
   },
   "source": [
    "You will work with the [Housing Prices Competition for Kaggle Learn Users](https://www.kaggle.com/c/home-data-for-ml-course) dataset from the previous exercise. \n",
    "\n",
    "![Ames Housing dataset image](https://i.imgur.com/lTJVG4e.png)\n",
    "\n",
    "Run the next code cell without changes to load the training and validation sets in `X_train`, `X_valid`, `y_train`, and `y_valid`.  The test set is loaded in `X_test`."
   ]
  },
  {
   "cell_type": "code",
   "execution_count": 2,
   "id": "b9a31ffc",
   "metadata": {
    "execution": {
     "iopub.execute_input": "2022-10-22T10:12:15.244022Z",
     "iopub.status.busy": "2022-10-22T10:12:15.243573Z",
     "iopub.status.idle": "2022-10-22T10:12:15.463595Z",
     "shell.execute_reply": "2022-10-22T10:12:15.462593Z"
    },
    "papermill": {
     "duration": 0.230583,
     "end_time": "2022-10-22T10:12:15.466273",
     "exception": false,
     "start_time": "2022-10-22T10:12:15.235690",
     "status": "completed"
    },
    "tags": []
   },
   "outputs": [],
   "source": [
    "import pandas as pd\n",
    "from sklearn.model_selection import train_test_split\n",
    "\n",
    "# Read the data\n",
    "X = pd.read_csv('../input/train.csv', index_col='Id')\n",
    "X_test_full = pd.read_csv('../input/test.csv', index_col='Id')\n",
    "\n",
    "# Remove rows with missing target, separate target from predictors\n",
    "X.dropna(axis=0, subset=['SalePrice'], inplace=True)\n",
    "y = X.SalePrice              \n",
    "X.drop(['SalePrice'], axis=1, inplace=True)\n",
    "\n",
    "# Break off validation set from training data\n",
    "X_train_full, X_valid_full, y_train, y_valid = train_test_split(X, y, train_size=0.8, test_size=0.2,\n",
    "                                                                random_state=0)\n",
    "\n",
    "# \"Cardinality\" means the number of unique values in a column\n",
    "# Select categorical columns with relatively low cardinality (convenient but arbitrary)\n",
    "low_cardinality_cols = [cname for cname in X_train_full.columns if X_train_full[cname].nunique() < 10 and \n",
    "                        X_train_full[cname].dtype == \"object\"]\n",
    "\n",
    "# Select numeric columns\n",
    "numeric_cols = [cname for cname in X_train_full.columns if X_train_full[cname].dtype in ['int64', 'float64']]\n",
    "\n",
    "# Keep selected columns only\n",
    "my_cols = low_cardinality_cols + numeric_cols\n",
    "X_train = X_train_full[my_cols].copy()\n",
    "X_valid = X_valid_full[my_cols].copy()\n",
    "X_test = X_test_full[my_cols].copy()\n",
    "\n",
    "# One-hot encode the data (to shorten the code, we use pandas)\n",
    "X_train = pd.get_dummies(X_train)\n",
    "X_valid = pd.get_dummies(X_valid)\n",
    "X_test = pd.get_dummies(X_test)\n",
    "X_train, X_valid = X_train.align(X_valid, join='left', axis=1)\n",
    "X_train, X_test = X_train.align(X_test, join='left', axis=1)"
   ]
  },
  {
   "cell_type": "markdown",
   "id": "a2552828",
   "metadata": {
    "papermill": {
     "duration": 0.005189,
     "end_time": "2022-10-22T10:12:15.477047",
     "exception": false,
     "start_time": "2022-10-22T10:12:15.471858",
     "status": "completed"
    },
    "tags": []
   },
   "source": [
    "# Step 1: Build model\n",
    "\n",
    "### Part A\n",
    "\n",
    "In this step, you'll build and train your first model with gradient boosting.\n",
    "\n",
    "- Begin by setting `my_model_1` to an XGBoost model.  Use the [XGBRegressor](https://xgboost.readthedocs.io/en/latest/python/python_api.html#xgboost.XGBRegressor) class, and set the random seed to 0 (`random_state=0`).  **Leave all other parameters as default.**\n",
    "- Then, fit the model to the training data in `X_train` and `y_train`."
   ]
  },
  {
   "cell_type": "code",
   "execution_count": 3,
   "id": "924f33c3",
   "metadata": {
    "execution": {
     "iopub.execute_input": "2022-10-22T10:12:15.489729Z",
     "iopub.status.busy": "2022-10-22T10:12:15.489345Z",
     "iopub.status.idle": "2022-10-22T10:12:16.539911Z",
     "shell.execute_reply": "2022-10-22T10:12:16.539008Z"
    },
    "papermill": {
     "duration": 1.059638,
     "end_time": "2022-10-22T10:12:16.542172",
     "exception": false,
     "start_time": "2022-10-22T10:12:15.482534",
     "status": "completed"
    },
    "tags": []
   },
   "outputs": [
    {
     "data": {
      "application/javascript": [
       "parent.postMessage({\"jupyterEvent\": \"custom.exercise_interaction\", \"data\": {\"outcomeType\": 1, \"valueTowardsCompletion\": 0.5, \"interactionType\": 1, \"questionType\": 2, \"questionId\": \"1.1_Model1A\", \"learnToolsVersion\": \"0.3.4\", \"failureMessage\": \"\", \"exceptionClass\": \"\", \"trace\": \"\"}}, \"*\")"
      ],
      "text/plain": [
       "<IPython.core.display.Javascript object>"
      ]
     },
     "metadata": {},
     "output_type": "display_data"
    },
    {
     "data": {
      "text/markdown": [
       "<span style=\"color:#33cc33\">Correct</span>"
      ],
      "text/plain": [
       "Correct"
      ]
     },
     "metadata": {},
     "output_type": "display_data"
    }
   ],
   "source": [
    "from xgboost import XGBRegressor\n",
    "\n",
    "# Define the model\n",
    "my_model_1 = XGBRegressor(random_state=0) # Your code here\n",
    "\n",
    "# Fit the model\n",
    "my_model_1.fit(X_train, y_train) # Your code here\n",
    "\n",
    "# Check your answer\n",
    "step_1.a.check()"
   ]
  },
  {
   "cell_type": "code",
   "execution_count": 4,
   "id": "6f2d6c3f",
   "metadata": {
    "execution": {
     "iopub.execute_input": "2022-10-22T10:12:16.555143Z",
     "iopub.status.busy": "2022-10-22T10:12:16.554751Z",
     "iopub.status.idle": "2022-10-22T10:12:16.558717Z",
     "shell.execute_reply": "2022-10-22T10:12:16.557748Z"
    },
    "papermill": {
     "duration": 0.012755,
     "end_time": "2022-10-22T10:12:16.560747",
     "exception": false,
     "start_time": "2022-10-22T10:12:16.547992",
     "status": "completed"
    },
    "tags": []
   },
   "outputs": [],
   "source": [
    "# Lines below will give you a hint or solution code\n",
    "#step_1.a.hint()\n",
    "#step_1.a.solution()"
   ]
  },
  {
   "cell_type": "markdown",
   "id": "450cdf4b",
   "metadata": {
    "papermill": {
     "duration": 0.006833,
     "end_time": "2022-10-22T10:12:16.573196",
     "exception": false,
     "start_time": "2022-10-22T10:12:16.566363",
     "status": "completed"
    },
    "tags": []
   },
   "source": [
    "### Part B\n",
    "\n",
    "Set `predictions_1` to the model's predictions for the validation data.  Recall that the validation features are stored in `X_valid`."
   ]
  },
  {
   "cell_type": "code",
   "execution_count": 5,
   "id": "16ffa259",
   "metadata": {
    "execution": {
     "iopub.execute_input": "2022-10-22T10:12:16.586079Z",
     "iopub.status.busy": "2022-10-22T10:12:16.585654Z",
     "iopub.status.idle": "2022-10-22T10:12:16.608267Z",
     "shell.execute_reply": "2022-10-22T10:12:16.607329Z"
    },
    "papermill": {
     "duration": 0.032297,
     "end_time": "2022-10-22T10:12:16.611014",
     "exception": false,
     "start_time": "2022-10-22T10:12:16.578717",
     "status": "completed"
    },
    "tags": []
   },
   "outputs": [
    {
     "data": {
      "application/javascript": [
       "parent.postMessage({\"jupyterEvent\": \"custom.exercise_interaction\", \"data\": {\"outcomeType\": 1, \"valueTowardsCompletion\": 0.5, \"interactionType\": 1, \"questionType\": 2, \"questionId\": \"1.2_Model1B\", \"learnToolsVersion\": \"0.3.4\", \"failureMessage\": \"\", \"exceptionClass\": \"\", \"trace\": \"\"}}, \"*\")"
      ],
      "text/plain": [
       "<IPython.core.display.Javascript object>"
      ]
     },
     "metadata": {},
     "output_type": "display_data"
    },
    {
     "data": {
      "text/markdown": [
       "<span style=\"color:#33cc33\">Correct</span>"
      ],
      "text/plain": [
       "Correct"
      ]
     },
     "metadata": {},
     "output_type": "display_data"
    }
   ],
   "source": [
    "from sklearn.metrics import mean_absolute_error\n",
    "\n",
    "# Get predictions\n",
    "predictions_1 = my_model_1.predict(X_valid) # Your code here\n",
    "\n",
    "# Check your answer\n",
    "step_1.b.check()"
   ]
  },
  {
   "cell_type": "code",
   "execution_count": 6,
   "id": "30420c07",
   "metadata": {
    "execution": {
     "iopub.execute_input": "2022-10-22T10:12:16.625240Z",
     "iopub.status.busy": "2022-10-22T10:12:16.624820Z",
     "iopub.status.idle": "2022-10-22T10:12:16.629292Z",
     "shell.execute_reply": "2022-10-22T10:12:16.628175Z"
    },
    "papermill": {
     "duration": 0.013963,
     "end_time": "2022-10-22T10:12:16.631679",
     "exception": false,
     "start_time": "2022-10-22T10:12:16.617716",
     "status": "completed"
    },
    "tags": []
   },
   "outputs": [],
   "source": [
    "# Lines below will give you a hint or solution code\n",
    "#step_1.b.hint()\n",
    "#step_1.b.solution()"
   ]
  },
  {
   "cell_type": "markdown",
   "id": "55a05fa7",
   "metadata": {
    "papermill": {
     "duration": 0.005511,
     "end_time": "2022-10-22T10:12:16.642871",
     "exception": false,
     "start_time": "2022-10-22T10:12:16.637360",
     "status": "completed"
    },
    "tags": []
   },
   "source": [
    "### Part C\n",
    "\n",
    "Finally, use the `mean_absolute_error()` function to calculate the mean absolute error (MAE) corresponding to the predictions for the validation set.  Recall that the labels for the validation data are stored in `y_valid`."
   ]
  },
  {
   "cell_type": "code",
   "execution_count": 7,
   "id": "75757373",
   "metadata": {
    "execution": {
     "iopub.execute_input": "2022-10-22T10:12:16.656073Z",
     "iopub.status.busy": "2022-10-22T10:12:16.655527Z",
     "iopub.status.idle": "2022-10-22T10:12:16.665275Z",
     "shell.execute_reply": "2022-10-22T10:12:16.664515Z"
    },
    "papermill": {
     "duration": 0.019691,
     "end_time": "2022-10-22T10:12:16.668230",
     "exception": false,
     "start_time": "2022-10-22T10:12:16.648539",
     "status": "completed"
    },
    "tags": []
   },
   "outputs": [
    {
     "name": "stdout",
     "output_type": "stream",
     "text": [
      "Mean Absolute Error: 17662.736729452055\n"
     ]
    },
    {
     "data": {
      "application/javascript": [
       "parent.postMessage({\"jupyterEvent\": \"custom.exercise_interaction\", \"data\": {\"outcomeType\": 1, \"valueTowardsCompletion\": 0.5, \"interactionType\": 1, \"questionType\": 2, \"questionId\": \"1.3_Model1C\", \"learnToolsVersion\": \"0.3.4\", \"failureMessage\": \"\", \"exceptionClass\": \"\", \"trace\": \"\"}}, \"*\")"
      ],
      "text/plain": [
       "<IPython.core.display.Javascript object>"
      ]
     },
     "metadata": {},
     "output_type": "display_data"
    },
    {
     "data": {
      "text/markdown": [
       "<span style=\"color:#33cc33\">Correct</span>"
      ],
      "text/plain": [
       "Correct"
      ]
     },
     "metadata": {},
     "output_type": "display_data"
    }
   ],
   "source": [
    "from sklearn.metrics import mean_absolute_error\n",
    "\n",
    "# Calculate MAE\n",
    "mae_1 = mean_absolute_error(y_valid, predictions_1) # Your code here\n",
    "\n",
    "# Uncomment to print MAE\n",
    "print(\"Mean Absolute Error:\" , mae_1)\n",
    "\n",
    "# Check your answer\n",
    "step_1.c.check()"
   ]
  },
  {
   "cell_type": "code",
   "execution_count": 8,
   "id": "2b01f14f",
   "metadata": {
    "execution": {
     "iopub.execute_input": "2022-10-22T10:12:16.682882Z",
     "iopub.status.busy": "2022-10-22T10:12:16.681877Z",
     "iopub.status.idle": "2022-10-22T10:12:16.685903Z",
     "shell.execute_reply": "2022-10-22T10:12:16.685141Z"
    },
    "papermill": {
     "duration": 0.013637,
     "end_time": "2022-10-22T10:12:16.687958",
     "exception": false,
     "start_time": "2022-10-22T10:12:16.674321",
     "status": "completed"
    },
    "tags": []
   },
   "outputs": [],
   "source": [
    "# Lines below will give you a hint or solution code\n",
    "#step_1.c.hint()\n",
    "#step_1.c.solution()"
   ]
  },
  {
   "cell_type": "markdown",
   "id": "c60e0c27",
   "metadata": {
    "papermill": {
     "duration": 0.005833,
     "end_time": "2022-10-22T10:12:16.700020",
     "exception": false,
     "start_time": "2022-10-22T10:12:16.694187",
     "status": "completed"
    },
    "tags": []
   },
   "source": [
    "# Step 2: Improve the model\n",
    "\n",
    "Now that you've trained a default model as baseline, it's time to tinker with the parameters, to see if you can get better performance!\n",
    "- Begin by setting `my_model_2` to an XGBoost model, using the [XGBRegressor](https://xgboost.readthedocs.io/en/latest/python/python_api.html#xgboost.XGBRegressor) class.  Use what you learned in the previous tutorial to figure out how to change the default parameters (like `n_estimators` and `learning_rate`) to get better results.\n",
    "- Then, fit the model to the training data in `X_train` and `y_train`.\n",
    "- Set `predictions_2` to the model's predictions for the validation data.  Recall that the validation features are stored in `X_valid`.\n",
    "- Finally, use the `mean_absolute_error()` function to calculate the mean absolute error (MAE) corresponding to the predictions on the validation set.  Recall that the labels for the validation data are stored in `y_valid`.\n",
    "\n",
    "In order for this step to be marked correct, your model in `my_model_2` must attain lower MAE than the model in `my_model_1`. "
   ]
  },
  {
   "cell_type": "code",
   "execution_count": 9,
   "id": "85885abf",
   "metadata": {
    "execution": {
     "iopub.execute_input": "2022-10-22T10:12:16.713996Z",
     "iopub.status.busy": "2022-10-22T10:12:16.713306Z",
     "iopub.status.idle": "2022-10-22T10:13:51.226233Z",
     "shell.execute_reply": "2022-10-22T10:13:51.224830Z"
    },
    "papermill": {
     "duration": 94.522603,
     "end_time": "2022-10-22T10:13:51.228654",
     "exception": false,
     "start_time": "2022-10-22T10:12:16.706051",
     "status": "completed"
    },
    "tags": []
   },
   "outputs": [
    {
     "name": "stderr",
     "output_type": "stream",
     "text": [
      "/opt/conda/lib/python3.7/site-packages/xgboost/sklearn.py:797: UserWarning: `early_stopping_rounds` in `fit` method is deprecated for better compatibility with scikit-learn, use `early_stopping_rounds` in constructor or`set_params` instead.\n",
      "  UserWarning,\n"
     ]
    },
    {
     "name": "stdout",
     "output_type": "stream",
     "text": [
      "Mean Absolute Error: 17111.21175353168\n"
     ]
    },
    {
     "data": {
      "application/javascript": [
       "parent.postMessage({\"jupyterEvent\": \"custom.exercise_interaction\", \"data\": {\"outcomeType\": 1, \"valueTowardsCompletion\": 0.5, \"interactionType\": 1, \"questionType\": 2, \"questionId\": \"2_Model2\", \"learnToolsVersion\": \"0.3.4\", \"failureMessage\": \"\", \"exceptionClass\": \"\", \"trace\": \"\"}}, \"*\")"
      ],
      "text/plain": [
       "<IPython.core.display.Javascript object>"
      ]
     },
     "metadata": {},
     "output_type": "display_data"
    },
    {
     "data": {
      "text/markdown": [
       "<span style=\"color:#33cc33\">Correct</span>"
      ],
      "text/plain": [
       "Correct"
      ]
     },
     "metadata": {},
     "output_type": "display_data"
    }
   ],
   "source": [
    "# Define the model\n",
    "my_model_2 = XGBRegressor(n_estimators=10_000, n_jobs=4, learning_rate=0.001) # Your code here\n",
    "\n",
    "# Fit the model\n",
    "my_model_2.fit(X_train, y_train, early_stopping_rounds=10, eval_set=[(X_valid, y_valid)], verbose=False) # Your code here\n",
    "\n",
    "# Get predictions\n",
    "predictions_2 = my_model_2.predict(X_valid) # Your code here\n",
    "\n",
    "# Calculate MAE\n",
    "mae_2 = mean_absolute_error(predictions_2, y_valid) # Your code here\n",
    "\n",
    "# Uncomment to print MAE\n",
    "print(\"Mean Absolute Error:\" , mae_2)\n",
    "\n",
    "# Check your answer\n",
    "step_2.check()"
   ]
  },
  {
   "cell_type": "code",
   "execution_count": 10,
   "id": "2af516f2",
   "metadata": {
    "execution": {
     "iopub.execute_input": "2022-10-22T10:13:51.244103Z",
     "iopub.status.busy": "2022-10-22T10:13:51.243374Z",
     "iopub.status.idle": "2022-10-22T10:13:51.247981Z",
     "shell.execute_reply": "2022-10-22T10:13:51.247109Z"
    },
    "papermill": {
     "duration": 0.014912,
     "end_time": "2022-10-22T10:13:51.250258",
     "exception": false,
     "start_time": "2022-10-22T10:13:51.235346",
     "status": "completed"
    },
    "tags": []
   },
   "outputs": [],
   "source": [
    "# Lines below will give you a hint or solution code\n",
    "#step_2.hint()\n",
    "#step_2.solution()"
   ]
  },
  {
   "cell_type": "markdown",
   "id": "9f504933",
   "metadata": {
    "papermill": {
     "duration": 0.005989,
     "end_time": "2022-10-22T10:13:51.262659",
     "exception": false,
     "start_time": "2022-10-22T10:13:51.256670",
     "status": "completed"
    },
    "tags": []
   },
   "source": [
    "# Step 3: Break the model\n",
    "\n",
    "In this step, you will create a model that performs worse than the original model in Step 1.  This will help you to develop your intuition for how to set parameters.  You might even find that you accidentally get better performance, which is ultimately a nice problem to have and a valuable learning experience!\n",
    "- Begin by setting `my_model_3` to an XGBoost model, using the [XGBRegressor](https://xgboost.readthedocs.io/en/latest/python/python_api.html#xgboost.XGBRegressor) class.  Use what you learned in the previous tutorial to figure out how to change the default parameters (like `n_estimators` and `learning_rate`) to design a model to get high MAE.\n",
    "- Then, fit the model to the training data in `X_train` and `y_train`.\n",
    "- Set `predictions_3` to the model's predictions for the validation data.  Recall that the validation features are stored in `X_valid`.\n",
    "- Finally, use the `mean_absolute_error()` function to calculate the mean absolute error (MAE) corresponding to the predictions on the validation set.  Recall that the labels for the validation data are stored in `y_valid`.\n",
    "\n",
    "In order for this step to be marked correct, your model in `my_model_3` must attain higher MAE than the model in `my_model_1`. "
   ]
  },
  {
   "cell_type": "code",
   "execution_count": 11,
   "id": "5bfb2d4c",
   "metadata": {
    "execution": {
     "iopub.execute_input": "2022-10-22T10:13:51.277385Z",
     "iopub.status.busy": "2022-10-22T10:13:51.276584Z",
     "iopub.status.idle": "2022-10-22T10:13:52.306673Z",
     "shell.execute_reply": "2022-10-22T10:13:52.305730Z"
    },
    "papermill": {
     "duration": 1.040331,
     "end_time": "2022-10-22T10:13:52.309198",
     "exception": false,
     "start_time": "2022-10-22T10:13:51.268867",
     "status": "completed"
    },
    "tags": []
   },
   "outputs": [
    {
     "name": "stdout",
     "output_type": "stream",
     "text": [
      "[0]\tvalidation_0-rmse:1728182.24805\n",
      "[1]\tvalidation_0-rmse:15198637.91047\n",
      "[2]\tvalidation_0-rmse:137175681.33799\n",
      "[3]\tvalidation_0-rmse:1213321666.47219\n",
      "[4]\tvalidation_0-rmse:10740732892.90786\n",
      "[5]\tvalidation_0-rmse:94856973526.38763\n",
      "[6]\tvalidation_0-rmse:845934225645.83362\n",
      "[7]\tvalidation_0-rmse:7533990829640.25684\n",
      "[8]\tvalidation_0-rmse:67163825228831.80469\n",
      "[9]\tvalidation_0-rmse:598605265454715.62500\n",
      "[10]\tvalidation_0-rmse:5334426222316041.00000\n",
      "[11]\tvalidation_0-rmse:47558590937782632.00000\n",
      "[12]\tvalidation_0-rmse:423541618836425664.00000\n"
     ]
    },
    {
     "name": "stderr",
     "output_type": "stream",
     "text": [
      "/opt/conda/lib/python3.7/site-packages/xgboost/sklearn.py:797: UserWarning: `early_stopping_rounds` in `fit` method is deprecated for better compatibility with scikit-learn, use `early_stopping_rounds` in constructor or`set_params` instead.\n",
      "  UserWarning,\n"
     ]
    },
    {
     "name": "stdout",
     "output_type": "stream",
     "text": [
      "[13]\tvalidation_0-rmse:3774752472129480704.00000\n",
      "[14]\tvalidation_0-rmse:inf\n",
      "[15]\tvalidation_0-rmse:inf\n",
      "[16]\tvalidation_0-rmse:inf\n",
      "[17]\tvalidation_0-rmse:inf\n",
      "[18]\tvalidation_0-rmse:inf\n",
      "[19]\tvalidation_0-rmse:inf\n",
      "[20]\tvalidation_0-rmse:inf\n",
      "[21]\tvalidation_0-rmse:inf\n",
      "[22]\tvalidation_0-rmse:inf\n",
      "[23]\tvalidation_0-rmse:inf\n",
      "[24]\tvalidation_0-rmse:inf\n",
      "[25]\tvalidation_0-rmse:inf\n",
      "[26]\tvalidation_0-rmse:inf\n",
      "[27]\tvalidation_0-rmse:inf\n",
      "[28]\tvalidation_0-rmse:inf\n",
      "[29]\tvalidation_0-rmse:inf\n",
      "[30]\tvalidation_0-rmse:inf\n",
      "[31]\tvalidation_0-rmse:inf\n",
      "[32]\tvalidation_0-rmse:inf\n",
      "[33]\tvalidation_0-rmse:inf\n",
      "[34]\tvalidation_0-rmse:inf\n",
      "[35]\tvalidation_0-rmse:nan\n",
      "[36]\tvalidation_0-rmse:nan\n",
      "[37]\tvalidation_0-rmse:nan\n",
      "[38]\tvalidation_0-rmse:nan\n",
      "[39]\tvalidation_0-rmse:nan\n",
      "[40]\tvalidation_0-rmse:nan\n",
      "[41]\tvalidation_0-rmse:nan\n",
      "[42]\tvalidation_0-rmse:nan\n",
      "[43]\tvalidation_0-rmse:nan\n",
      "[44]\tvalidation_0-rmse:nan\n",
      "[45]\tvalidation_0-rmse:nan\n",
      "[46]\tvalidation_0-rmse:nan\n",
      "[47]\tvalidation_0-rmse:nan\n",
      "[48]\tvalidation_0-rmse:nan\n",
      "[49]\tvalidation_0-rmse:nan\n",
      "[50]\tvalidation_0-rmse:nan\n",
      "[51]\tvalidation_0-rmse:nan\n",
      "[52]\tvalidation_0-rmse:nan\n",
      "[53]\tvalidation_0-rmse:nan\n",
      "[54]\tvalidation_0-rmse:nan\n",
      "[55]\tvalidation_0-rmse:nan\n",
      "[56]\tvalidation_0-rmse:nan\n",
      "[57]\tvalidation_0-rmse:nan\n",
      "[58]\tvalidation_0-rmse:nan\n",
      "[59]\tvalidation_0-rmse:nan\n",
      "[60]\tvalidation_0-rmse:nan\n",
      "[61]\tvalidation_0-rmse:nan\n",
      "[62]\tvalidation_0-rmse:nan\n",
      "[63]\tvalidation_0-rmse:nan\n",
      "[64]\tvalidation_0-rmse:nan\n",
      "[65]\tvalidation_0-rmse:nan\n",
      "[66]\tvalidation_0-rmse:nan\n",
      "[67]\tvalidation_0-rmse:nan\n",
      "[68]\tvalidation_0-rmse:nan\n",
      "[69]\tvalidation_0-rmse:nan\n",
      "[70]\tvalidation_0-rmse:nan\n",
      "[71]\tvalidation_0-rmse:nan\n",
      "[72]\tvalidation_0-rmse:nan\n",
      "[73]\tvalidation_0-rmse:nan\n",
      "[74]\tvalidation_0-rmse:nan\n",
      "[75]\tvalidation_0-rmse:nan\n",
      "[76]\tvalidation_0-rmse:nan\n",
      "[77]\tvalidation_0-rmse:nan\n",
      "[78]\tvalidation_0-rmse:nan\n",
      "[79]\tvalidation_0-rmse:nan\n",
      "[80]\tvalidation_0-rmse:nan\n",
      "[81]\tvalidation_0-rmse:nan\n",
      "[82]\tvalidation_0-rmse:nan\n",
      "[83]\tvalidation_0-rmse:nan\n",
      "[84]\tvalidation_0-rmse:nan\n",
      "[85]\tvalidation_0-rmse:nan\n",
      "[86]\tvalidation_0-rmse:nan\n",
      "[87]\tvalidation_0-rmse:nan\n",
      "[88]\tvalidation_0-rmse:nan\n",
      "[89]\tvalidation_0-rmse:nan\n",
      "[90]\tvalidation_0-rmse:nan\n",
      "[91]\tvalidation_0-rmse:nan\n",
      "[92]\tvalidation_0-rmse:nan\n",
      "[93]\tvalidation_0-rmse:nan\n",
      "[94]\tvalidation_0-rmse:nan\n",
      "[95]\tvalidation_0-rmse:nan\n",
      "[96]\tvalidation_0-rmse:nan\n",
      "[97]\tvalidation_0-rmse:nan\n",
      "[98]\tvalidation_0-rmse:nan\n",
      "[99]\tvalidation_0-rmse:nan\n",
      "Mean Absolute Error: 1601123.3914811644\n"
     ]
    },
    {
     "data": {
      "application/javascript": [
       "parent.postMessage({\"jupyterEvent\": \"custom.exercise_interaction\", \"data\": {\"outcomeType\": 1, \"valueTowardsCompletion\": 0.5, \"interactionType\": 1, \"questionType\": 2, \"questionId\": \"3_Model3\", \"learnToolsVersion\": \"0.3.4\", \"failureMessage\": \"\", \"exceptionClass\": \"\", \"trace\": \"\"}}, \"*\")"
      ],
      "text/plain": [
       "<IPython.core.display.Javascript object>"
      ]
     },
     "metadata": {},
     "output_type": "display_data"
    },
    {
     "data": {
      "text/markdown": [
       "<span style=\"color:#33cc33\">Correct</span>"
      ],
      "text/plain": [
       "Correct"
      ]
     },
     "metadata": {},
     "output_type": "display_data"
    }
   ],
   "source": [
    "# Define the model\n",
    "my_model_3 = XGBRegressor(n_estimators=100, learning_rate=10, n_jobs=4)\n",
    "\n",
    "# Fit the model\n",
    "my_model_3.fit(X_train, y_train, early_stopping_rounds=100, eval_set=[(X_valid, y_valid)], verbose=True) # Your code here\n",
    "\n",
    "# Get predictions\n",
    "predictions_3 = my_model_3.predict(X_valid)\n",
    "\n",
    "# Calculate MAE\n",
    "mae_3 = mean_absolute_error(predictions_3, y_valid)\n",
    "\n",
    "# Uncomment to print MAE\n",
    "print(\"Mean Absolute Error:\" , mae_3)\n",
    "\n",
    "# Check your answer\n",
    "step_3.check()"
   ]
  },
  {
   "cell_type": "code",
   "execution_count": 12,
   "id": "bf8f9480",
   "metadata": {
    "execution": {
     "iopub.execute_input": "2022-10-22T10:13:52.338842Z",
     "iopub.status.busy": "2022-10-22T10:13:52.338374Z",
     "iopub.status.idle": "2022-10-22T10:13:52.343211Z",
     "shell.execute_reply": "2022-10-22T10:13:52.341997Z"
    },
    "papermill": {
     "duration": 0.021418,
     "end_time": "2022-10-22T10:13:52.345605",
     "exception": false,
     "start_time": "2022-10-22T10:13:52.324187",
     "status": "completed"
    },
    "tags": []
   },
   "outputs": [],
   "source": [
    "# Lines below will give you a hint or solution code\n",
    "#step_3.hint()\n",
    "#step_3.solution()"
   ]
  },
  {
   "cell_type": "markdown",
   "id": "27223702",
   "metadata": {
    "papermill": {
     "duration": 0.012513,
     "end_time": "2022-10-22T10:13:52.371262",
     "exception": false,
     "start_time": "2022-10-22T10:13:52.358749",
     "status": "completed"
    },
    "tags": []
   },
   "source": [
    "# Keep going\n",
    "\n",
    "Continue to learn about **[data leakage](https://www.kaggle.com/alexisbcook/data-leakage)**.  This is an important issue for a data scientist to understand, and it has the potential to ruin your models in subtle and dangerous ways!"
   ]
  },
  {
   "cell_type": "markdown",
   "id": "f2196b98",
   "metadata": {
    "papermill": {
     "duration": 0.019937,
     "end_time": "2022-10-22T10:13:52.405461",
     "exception": false,
     "start_time": "2022-10-22T10:13:52.385524",
     "status": "completed"
    },
    "tags": []
   },
   "source": [
    "---\n",
    "\n",
    "\n",
    "\n",
    "\n",
    "*Have questions or comments? Visit the [course discussion forum](https://www.kaggle.com/learn/intermediate-machine-learning/discussion) to chat with other learners.*"
   ]
  }
 ],
 "metadata": {
  "kernelspec": {
   "display_name": "Python 3",
   "language": "python",
   "name": "python3"
  },
  "language_info": {
   "codemirror_mode": {
    "name": "ipython",
    "version": 3
   },
   "file_extension": ".py",
   "mimetype": "text/x-python",
   "name": "python",
   "nbconvert_exporter": "python",
   "pygments_lexer": "ipython3",
   "version": "3.7.12"
  },
  "papermill": {
   "default_parameters": {},
   "duration": 109.202828,
   "end_time": "2022-10-22T10:13:53.244539",
   "environment_variables": {},
   "exception": null,
   "input_path": "__notebook__.ipynb",
   "output_path": "__notebook__.ipynb",
   "parameters": {},
   "start_time": "2022-10-22T10:12:04.041711",
   "version": "2.3.4"
  }
 },
 "nbformat": 4,
 "nbformat_minor": 5
}
