{
 "cells": [
  {
   "cell_type": "markdown",
   "id": "72a16096",
   "metadata": {
    "papermill": {
     "duration": 0.011333,
     "end_time": "2022-10-21T22:56:24.401863",
     "exception": false,
     "start_time": "2022-10-21T22:56:24.390530",
     "status": "completed"
    },
    "tags": []
   },
   "source": [
    "**This notebook is an exercise in the [Intermediate Machine Learning](https://www.kaggle.com/learn/intermediate-machine-learning) course.  You can reference the tutorial at [this link](https://www.kaggle.com/alexisbcook/categorical-variables).**\n",
    "\n",
    "---\n"
   ]
  },
  {
   "cell_type": "markdown",
   "id": "5e9b2946",
   "metadata": {
    "papermill": {
     "duration": 0.009478,
     "end_time": "2022-10-21T22:56:24.421878",
     "exception": false,
     "start_time": "2022-10-21T22:56:24.412400",
     "status": "completed"
    },
    "tags": []
   },
   "source": [
    "By encoding **categorical variables**, you'll obtain your best results thus far!\n",
    "\n",
    "# Setup\n",
    "\n",
    "The questions below will give you feedback on your work. Run the following cell to set up the feedback system."
   ]
  },
  {
   "cell_type": "code",
   "execution_count": 1,
   "id": "b621126c",
   "metadata": {
    "execution": {
     "iopub.execute_input": "2022-10-21T22:56:24.445604Z",
     "iopub.status.busy": "2022-10-21T22:56:24.444753Z",
     "iopub.status.idle": "2022-10-21T22:56:24.492338Z",
     "shell.execute_reply": "2022-10-21T22:56:24.491503Z"
    },
    "papermill": {
     "duration": 0.063328,
     "end_time": "2022-10-21T22:56:24.495002",
     "exception": false,
     "start_time": "2022-10-21T22:56:24.431674",
     "status": "completed"
    },
    "tags": []
   },
   "outputs": [
    {
     "name": "stdout",
     "output_type": "stream",
     "text": [
      "Setup Complete\n"
     ]
    }
   ],
   "source": [
    "# Set up code checking\n",
    "import os\n",
    "if not os.path.exists(\"../input/train.csv\"):\n",
    "    os.symlink(\"../input/home-data-for-ml-course/train.csv\", \"../input/train.csv\")  \n",
    "    os.symlink(\"../input/home-data-for-ml-course/test.csv\", \"../input/test.csv\") \n",
    "from learntools.core import binder\n",
    "binder.bind(globals())\n",
    "from learntools.ml_intermediate.ex3 import *\n",
    "print(\"Setup Complete\")"
   ]
  },
  {
   "cell_type": "markdown",
   "id": "8d589f86",
   "metadata": {
    "papermill": {
     "duration": 0.009829,
     "end_time": "2022-10-21T22:56:24.515271",
     "exception": false,
     "start_time": "2022-10-21T22:56:24.505442",
     "status": "completed"
    },
    "tags": []
   },
   "source": [
    "In this exercise, you will work with data from the [Housing Prices Competition for Kaggle Learn Users](https://www.kaggle.com/c/home-data-for-ml-course). \n",
    "\n",
    "![Ames Housing dataset image](https://i.imgur.com/lTJVG4e.png)\n",
    "\n",
    "Run the next code cell without changes to load the training and validation sets in `X_train`, `X_valid`, `y_train`, and `y_valid`.  The test set is loaded in `X_test`."
   ]
  },
  {
   "cell_type": "code",
   "execution_count": 2,
   "id": "1d597e23",
   "metadata": {
    "execution": {
     "iopub.execute_input": "2022-10-21T22:56:24.536872Z",
     "iopub.status.busy": "2022-10-21T22:56:24.536380Z",
     "iopub.status.idle": "2022-10-21T22:56:25.762894Z",
     "shell.execute_reply": "2022-10-21T22:56:25.761898Z"
    },
    "papermill": {
     "duration": 1.240903,
     "end_time": "2022-10-21T22:56:25.766044",
     "exception": false,
     "start_time": "2022-10-21T22:56:24.525141",
     "status": "completed"
    },
    "tags": []
   },
   "outputs": [],
   "source": [
    "import pandas as pd\n",
    "from sklearn.model_selection import train_test_split\n",
    "\n",
    "# Read the data\n",
    "X = pd.read_csv('../input/train.csv', index_col='Id') \n",
    "X_test = pd.read_csv('../input/test.csv', index_col='Id')\n",
    "\n",
    "# Remove rows with missing target, separate target from predictors\n",
    "X.dropna(axis=0, subset=['SalePrice'], inplace=True)\n",
    "y = X.SalePrice\n",
    "X.drop(['SalePrice'], axis=1, inplace=True)\n",
    "\n",
    "# To keep things simple, we'll drop columns with missing values\n",
    "cols_with_missing = [col for col in X.columns if X[col].isnull().any()] \n",
    "X.drop(cols_with_missing, axis=1, inplace=True)\n",
    "X_test.drop(cols_with_missing, axis=1, inplace=True)\n",
    "\n",
    "# Break off validation set from training data\n",
    "X_train, X_valid, y_train, y_valid = train_test_split(X, y,\n",
    "                                                      train_size=0.8, test_size=0.2,\n",
    "                                                      random_state=0)"
   ]
  },
  {
   "cell_type": "markdown",
   "id": "70bd4ea7",
   "metadata": {
    "papermill": {
     "duration": 0.009753,
     "end_time": "2022-10-21T22:56:25.791072",
     "exception": false,
     "start_time": "2022-10-21T22:56:25.781319",
     "status": "completed"
    },
    "tags": []
   },
   "source": [
    "Use the next code cell to print the first five rows of the data."
   ]
  },
  {
   "cell_type": "code",
   "execution_count": 3,
   "id": "57d7acb1",
   "metadata": {
    "execution": {
     "iopub.execute_input": "2022-10-21T22:56:25.812562Z",
     "iopub.status.busy": "2022-10-21T22:56:25.812162Z",
     "iopub.status.idle": "2022-10-21T22:56:25.844873Z",
     "shell.execute_reply": "2022-10-21T22:56:25.843598Z"
    },
    "papermill": {
     "duration": 0.046447,
     "end_time": "2022-10-21T22:56:25.847518",
     "exception": false,
     "start_time": "2022-10-21T22:56:25.801071",
     "status": "completed"
    },
    "tags": []
   },
   "outputs": [
    {
     "data": {
      "text/html": [
       "<div>\n",
       "<style scoped>\n",
       "    .dataframe tbody tr th:only-of-type {\n",
       "        vertical-align: middle;\n",
       "    }\n",
       "\n",
       "    .dataframe tbody tr th {\n",
       "        vertical-align: top;\n",
       "    }\n",
       "\n",
       "    .dataframe thead th {\n",
       "        text-align: right;\n",
       "    }\n",
       "</style>\n",
       "<table border=\"1\" class=\"dataframe\">\n",
       "  <thead>\n",
       "    <tr style=\"text-align: right;\">\n",
       "      <th></th>\n",
       "      <th>MSSubClass</th>\n",
       "      <th>MSZoning</th>\n",
       "      <th>LotArea</th>\n",
       "      <th>Street</th>\n",
       "      <th>LotShape</th>\n",
       "      <th>LandContour</th>\n",
       "      <th>Utilities</th>\n",
       "      <th>LotConfig</th>\n",
       "      <th>LandSlope</th>\n",
       "      <th>Neighborhood</th>\n",
       "      <th>...</th>\n",
       "      <th>OpenPorchSF</th>\n",
       "      <th>EnclosedPorch</th>\n",
       "      <th>3SsnPorch</th>\n",
       "      <th>ScreenPorch</th>\n",
       "      <th>PoolArea</th>\n",
       "      <th>MiscVal</th>\n",
       "      <th>MoSold</th>\n",
       "      <th>YrSold</th>\n",
       "      <th>SaleType</th>\n",
       "      <th>SaleCondition</th>\n",
       "    </tr>\n",
       "    <tr>\n",
       "      <th>Id</th>\n",
       "      <th></th>\n",
       "      <th></th>\n",
       "      <th></th>\n",
       "      <th></th>\n",
       "      <th></th>\n",
       "      <th></th>\n",
       "      <th></th>\n",
       "      <th></th>\n",
       "      <th></th>\n",
       "      <th></th>\n",
       "      <th></th>\n",
       "      <th></th>\n",
       "      <th></th>\n",
       "      <th></th>\n",
       "      <th></th>\n",
       "      <th></th>\n",
       "      <th></th>\n",
       "      <th></th>\n",
       "      <th></th>\n",
       "      <th></th>\n",
       "      <th></th>\n",
       "    </tr>\n",
       "  </thead>\n",
       "  <tbody>\n",
       "    <tr>\n",
       "      <th>619</th>\n",
       "      <td>20</td>\n",
       "      <td>RL</td>\n",
       "      <td>11694</td>\n",
       "      <td>Pave</td>\n",
       "      <td>Reg</td>\n",
       "      <td>Lvl</td>\n",
       "      <td>AllPub</td>\n",
       "      <td>Inside</td>\n",
       "      <td>Gtl</td>\n",
       "      <td>NridgHt</td>\n",
       "      <td>...</td>\n",
       "      <td>108</td>\n",
       "      <td>0</td>\n",
       "      <td>0</td>\n",
       "      <td>260</td>\n",
       "      <td>0</td>\n",
       "      <td>0</td>\n",
       "      <td>7</td>\n",
       "      <td>2007</td>\n",
       "      <td>New</td>\n",
       "      <td>Partial</td>\n",
       "    </tr>\n",
       "    <tr>\n",
       "      <th>871</th>\n",
       "      <td>20</td>\n",
       "      <td>RL</td>\n",
       "      <td>6600</td>\n",
       "      <td>Pave</td>\n",
       "      <td>Reg</td>\n",
       "      <td>Lvl</td>\n",
       "      <td>AllPub</td>\n",
       "      <td>Inside</td>\n",
       "      <td>Gtl</td>\n",
       "      <td>NAmes</td>\n",
       "      <td>...</td>\n",
       "      <td>0</td>\n",
       "      <td>0</td>\n",
       "      <td>0</td>\n",
       "      <td>0</td>\n",
       "      <td>0</td>\n",
       "      <td>0</td>\n",
       "      <td>8</td>\n",
       "      <td>2009</td>\n",
       "      <td>WD</td>\n",
       "      <td>Normal</td>\n",
       "    </tr>\n",
       "    <tr>\n",
       "      <th>93</th>\n",
       "      <td>30</td>\n",
       "      <td>RL</td>\n",
       "      <td>13360</td>\n",
       "      <td>Pave</td>\n",
       "      <td>IR1</td>\n",
       "      <td>HLS</td>\n",
       "      <td>AllPub</td>\n",
       "      <td>Inside</td>\n",
       "      <td>Gtl</td>\n",
       "      <td>Crawfor</td>\n",
       "      <td>...</td>\n",
       "      <td>0</td>\n",
       "      <td>44</td>\n",
       "      <td>0</td>\n",
       "      <td>0</td>\n",
       "      <td>0</td>\n",
       "      <td>0</td>\n",
       "      <td>8</td>\n",
       "      <td>2009</td>\n",
       "      <td>WD</td>\n",
       "      <td>Normal</td>\n",
       "    </tr>\n",
       "    <tr>\n",
       "      <th>818</th>\n",
       "      <td>20</td>\n",
       "      <td>RL</td>\n",
       "      <td>13265</td>\n",
       "      <td>Pave</td>\n",
       "      <td>IR1</td>\n",
       "      <td>Lvl</td>\n",
       "      <td>AllPub</td>\n",
       "      <td>CulDSac</td>\n",
       "      <td>Gtl</td>\n",
       "      <td>Mitchel</td>\n",
       "      <td>...</td>\n",
       "      <td>59</td>\n",
       "      <td>0</td>\n",
       "      <td>0</td>\n",
       "      <td>0</td>\n",
       "      <td>0</td>\n",
       "      <td>0</td>\n",
       "      <td>7</td>\n",
       "      <td>2008</td>\n",
       "      <td>WD</td>\n",
       "      <td>Normal</td>\n",
       "    </tr>\n",
       "    <tr>\n",
       "      <th>303</th>\n",
       "      <td>20</td>\n",
       "      <td>RL</td>\n",
       "      <td>13704</td>\n",
       "      <td>Pave</td>\n",
       "      <td>IR1</td>\n",
       "      <td>Lvl</td>\n",
       "      <td>AllPub</td>\n",
       "      <td>Corner</td>\n",
       "      <td>Gtl</td>\n",
       "      <td>CollgCr</td>\n",
       "      <td>...</td>\n",
       "      <td>81</td>\n",
       "      <td>0</td>\n",
       "      <td>0</td>\n",
       "      <td>0</td>\n",
       "      <td>0</td>\n",
       "      <td>0</td>\n",
       "      <td>1</td>\n",
       "      <td>2006</td>\n",
       "      <td>WD</td>\n",
       "      <td>Normal</td>\n",
       "    </tr>\n",
       "  </tbody>\n",
       "</table>\n",
       "<p>5 rows × 60 columns</p>\n",
       "</div>"
      ],
      "text/plain": [
       "     MSSubClass MSZoning  LotArea Street LotShape LandContour Utilities  \\\n",
       "Id                                                                        \n",
       "619          20       RL    11694   Pave      Reg         Lvl    AllPub   \n",
       "871          20       RL     6600   Pave      Reg         Lvl    AllPub   \n",
       "93           30       RL    13360   Pave      IR1         HLS    AllPub   \n",
       "818          20       RL    13265   Pave      IR1         Lvl    AllPub   \n",
       "303          20       RL    13704   Pave      IR1         Lvl    AllPub   \n",
       "\n",
       "    LotConfig LandSlope Neighborhood  ... OpenPorchSF EnclosedPorch 3SsnPorch  \\\n",
       "Id                                    ...                                       \n",
       "619    Inside       Gtl      NridgHt  ...         108             0         0   \n",
       "871    Inside       Gtl        NAmes  ...           0             0         0   \n",
       "93     Inside       Gtl      Crawfor  ...           0            44         0   \n",
       "818   CulDSac       Gtl      Mitchel  ...          59             0         0   \n",
       "303    Corner       Gtl      CollgCr  ...          81             0         0   \n",
       "\n",
       "    ScreenPorch  PoolArea  MiscVal  MoSold  YrSold SaleType SaleCondition  \n",
       "Id                                                                         \n",
       "619         260         0        0       7    2007      New       Partial  \n",
       "871           0         0        0       8    2009       WD        Normal  \n",
       "93            0         0        0       8    2009       WD        Normal  \n",
       "818           0         0        0       7    2008       WD        Normal  \n",
       "303           0         0        0       1    2006       WD        Normal  \n",
       "\n",
       "[5 rows x 60 columns]"
      ]
     },
     "execution_count": 3,
     "metadata": {},
     "output_type": "execute_result"
    }
   ],
   "source": [
    "X_train.head()"
   ]
  },
  {
   "cell_type": "markdown",
   "id": "4652e30a",
   "metadata": {
    "papermill": {
     "duration": 0.010181,
     "end_time": "2022-10-21T22:56:25.868485",
     "exception": false,
     "start_time": "2022-10-21T22:56:25.858304",
     "status": "completed"
    },
    "tags": []
   },
   "source": [
    "Notice that the dataset contains both numerical and categorical variables.  You'll need to encode the categorical data before training a model.\n",
    "\n",
    "To compare different models, you'll use the same `score_dataset()` function from the tutorial.  This function reports the [mean absolute error](https://en.wikipedia.org/wiki/Mean_absolute_error) (MAE) from a random forest model."
   ]
  },
  {
   "cell_type": "code",
   "execution_count": 4,
   "id": "368925c3",
   "metadata": {
    "execution": {
     "iopub.execute_input": "2022-10-21T22:56:25.891617Z",
     "iopub.status.busy": "2022-10-21T22:56:25.890798Z",
     "iopub.status.idle": "2022-10-21T22:56:26.087792Z",
     "shell.execute_reply": "2022-10-21T22:56:26.086719Z"
    },
    "papermill": {
     "duration": 0.211735,
     "end_time": "2022-10-21T22:56:26.090536",
     "exception": false,
     "start_time": "2022-10-21T22:56:25.878801",
     "status": "completed"
    },
    "tags": []
   },
   "outputs": [],
   "source": [
    "from sklearn.ensemble import RandomForestRegressor\n",
    "from sklearn.metrics import mean_absolute_error\n",
    "\n",
    "# function for comparing different approaches\n",
    "def score_dataset(X_train, X_valid, y_train, y_valid):\n",
    "    model = RandomForestRegressor(n_estimators=100, random_state=0)\n",
    "    model.fit(X_train, y_train)\n",
    "    preds = model.predict(X_valid)\n",
    "    return mean_absolute_error(y_valid, preds)"
   ]
  },
  {
   "cell_type": "markdown",
   "id": "b5b68231",
   "metadata": {
    "papermill": {
     "duration": 0.009829,
     "end_time": "2022-10-21T22:56:26.110577",
     "exception": false,
     "start_time": "2022-10-21T22:56:26.100748",
     "status": "completed"
    },
    "tags": []
   },
   "source": [
    "# Step 1: Drop columns with categorical data\n",
    "\n",
    "You'll get started with the most straightforward approach.  Use the code cell below to preprocess the data in `X_train` and `X_valid` to remove columns with categorical data.  Set the preprocessed DataFrames to `drop_X_train` and `drop_X_valid`, respectively.  "
   ]
  },
  {
   "cell_type": "code",
   "execution_count": 5,
   "id": "5225bd5a",
   "metadata": {
    "execution": {
     "iopub.execute_input": "2022-10-21T22:56:26.132478Z",
     "iopub.status.busy": "2022-10-21T22:56:26.132070Z",
     "iopub.status.idle": "2022-10-21T22:56:26.146244Z",
     "shell.execute_reply": "2022-10-21T22:56:26.144995Z"
    },
    "papermill": {
     "duration": 0.027953,
     "end_time": "2022-10-21T22:56:26.148534",
     "exception": false,
     "start_time": "2022-10-21T22:56:26.120581",
     "status": "completed"
    },
    "tags": []
   },
   "outputs": [
    {
     "data": {
      "application/javascript": [
       "parent.postMessage({\"jupyterEvent\": \"custom.exercise_interaction\", \"data\": {\"outcomeType\": 1, \"valueTowardsCompletion\": 0.5, \"interactionType\": 1, \"questionType\": 2, \"questionId\": \"1_Drop\", \"learnToolsVersion\": \"0.3.4\", \"failureMessage\": \"\", \"exceptionClass\": \"\", \"trace\": \"\"}}, \"*\")"
      ],
      "text/plain": [
       "<IPython.core.display.Javascript object>"
      ]
     },
     "metadata": {},
     "output_type": "display_data"
    },
    {
     "data": {
      "text/markdown": [
       "<span style=\"color:#33cc33\">Correct</span>"
      ],
      "text/plain": [
       "Correct"
      ]
     },
     "metadata": {},
     "output_type": "display_data"
    }
   ],
   "source": [
    "# Fill in the lines below: drop columns in training and validation data\n",
    "drop_X_train = X_train.select_dtypes(exclude=\"object\")\n",
    "drop_X_valid = X_valid.select_dtypes(exclude=\"object\")\n",
    "\n",
    "# Check your answers\n",
    "step_1.check()"
   ]
  },
  {
   "cell_type": "code",
   "execution_count": 6,
   "id": "c1b4e977",
   "metadata": {
    "execution": {
     "iopub.execute_input": "2022-10-21T22:56:26.171781Z",
     "iopub.status.busy": "2022-10-21T22:56:26.171098Z",
     "iopub.status.idle": "2022-10-21T22:56:26.175590Z",
     "shell.execute_reply": "2022-10-21T22:56:26.174802Z"
    },
    "papermill": {
     "duration": 0.01859,
     "end_time": "2022-10-21T22:56:26.177649",
     "exception": false,
     "start_time": "2022-10-21T22:56:26.159059",
     "status": "completed"
    },
    "tags": []
   },
   "outputs": [],
   "source": [
    "# Lines below will give you a hint or solution code\n",
    "#step_1.hint()\n",
    "#step_1.solution()"
   ]
  },
  {
   "cell_type": "markdown",
   "id": "30c79766",
   "metadata": {
    "papermill": {
     "duration": 0.0102,
     "end_time": "2022-10-21T22:56:26.198037",
     "exception": false,
     "start_time": "2022-10-21T22:56:26.187837",
     "status": "completed"
    },
    "tags": []
   },
   "source": [
    "Run the next code cell to get the MAE for this approach."
   ]
  },
  {
   "cell_type": "code",
   "execution_count": 7,
   "id": "a2041c41",
   "metadata": {
    "execution": {
     "iopub.execute_input": "2022-10-21T22:56:26.220780Z",
     "iopub.status.busy": "2022-10-21T22:56:26.220120Z",
     "iopub.status.idle": "2022-10-21T22:56:27.304742Z",
     "shell.execute_reply": "2022-10-21T22:56:27.303527Z"
    },
    "papermill": {
     "duration": 1.098724,
     "end_time": "2022-10-21T22:56:27.307065",
     "exception": false,
     "start_time": "2022-10-21T22:56:26.208341",
     "status": "completed"
    },
    "tags": []
   },
   "outputs": [
    {
     "name": "stdout",
     "output_type": "stream",
     "text": [
      "MAE from Approach 1 (Drop categorical variables):\n",
      "17837.82570776256\n"
     ]
    }
   ],
   "source": [
    "print(\"MAE from Approach 1 (Drop categorical variables):\")\n",
    "print(score_dataset(drop_X_train, drop_X_valid, y_train, y_valid))"
   ]
  },
  {
   "cell_type": "markdown",
   "id": "47f7ce3a",
   "metadata": {
    "papermill": {
     "duration": 0.010258,
     "end_time": "2022-10-21T22:56:27.327690",
     "exception": false,
     "start_time": "2022-10-21T22:56:27.317432",
     "status": "completed"
    },
    "tags": []
   },
   "source": [
    "Before jumping into ordinal encoding, we'll investigate the dataset.  Specifically, we'll look at the `'Condition2'` column.  The code cell below prints the unique entries in both the training and validation sets."
   ]
  },
  {
   "cell_type": "code",
   "execution_count": 8,
   "id": "6ee32922",
   "metadata": {
    "execution": {
     "iopub.execute_input": "2022-10-21T22:56:27.350159Z",
     "iopub.status.busy": "2022-10-21T22:56:27.349755Z",
     "iopub.status.idle": "2022-10-21T22:56:27.357254Z",
     "shell.execute_reply": "2022-10-21T22:56:27.355982Z"
    },
    "papermill": {
     "duration": 0.021336,
     "end_time": "2022-10-21T22:56:27.359384",
     "exception": false,
     "start_time": "2022-10-21T22:56:27.338048",
     "status": "completed"
    },
    "tags": []
   },
   "outputs": [
    {
     "name": "stdout",
     "output_type": "stream",
     "text": [
      "Unique values in 'Condition2' column in training data: ['Norm' 'PosA' 'Feedr' 'PosN' 'Artery' 'RRAe']\n",
      "\n",
      "Unique values in 'Condition2' column in validation data: ['Norm' 'RRAn' 'RRNn' 'Artery' 'Feedr' 'PosN']\n"
     ]
    }
   ],
   "source": [
    "print(\"Unique values in 'Condition2' column in training data:\", X_train['Condition2'].unique())\n",
    "print(\"\\nUnique values in 'Condition2' column in validation data:\", X_valid['Condition2'].unique())"
   ]
  },
  {
   "cell_type": "markdown",
   "id": "12286c3b",
   "metadata": {
    "papermill": {
     "duration": 0.010138,
     "end_time": "2022-10-21T22:56:27.379985",
     "exception": false,
     "start_time": "2022-10-21T22:56:27.369847",
     "status": "completed"
    },
    "tags": []
   },
   "source": [
    "# Step 2: Ordinal encoding\n",
    "\n",
    "### Part A\n",
    "\n",
    "If you now write code to: \n",
    "- fit an ordinal encoder to the training data, and then \n",
    "- use it to transform both the training and validation data, \n",
    "\n",
    "you'll get an error.  Can you see why this is the case?  (_You'll need  to use the above output to answer this question._)"
   ]
  },
  {
   "cell_type": "markdown",
   "id": "71a6f496",
   "metadata": {
    "papermill": {
     "duration": 0.010158,
     "end_time": "2022-10-21T22:56:27.400525",
     "exception": false,
     "start_time": "2022-10-21T22:56:27.390367",
     "status": "completed"
    },
    "tags": []
   },
   "source": [
    "Because there are categories in the Condition2 of the validation set that aren't in the Condition2 fo training set"
   ]
  },
  {
   "cell_type": "code",
   "execution_count": 9,
   "id": "e229421d",
   "metadata": {
    "execution": {
     "iopub.execute_input": "2022-10-21T22:56:27.423157Z",
     "iopub.status.busy": "2022-10-21T22:56:27.422758Z",
     "iopub.status.idle": "2022-10-21T22:56:27.431141Z",
     "shell.execute_reply": "2022-10-21T22:56:27.430226Z"
    },
    "papermill": {
     "duration": 0.022258,
     "end_time": "2022-10-21T22:56:27.433141",
     "exception": false,
     "start_time": "2022-10-21T22:56:27.410883",
     "status": "completed"
    },
    "tags": []
   },
   "outputs": [
    {
     "data": {
      "application/javascript": [
       "parent.postMessage({\"jupyterEvent\": \"custom.exercise_interaction\", \"data\": {\"outcomeType\": 1, \"valueTowardsCompletion\": 0.5, \"interactionType\": 1, \"questionType\": 4, \"questionId\": \"2.1_LabelA\", \"learnToolsVersion\": \"0.3.4\", \"failureMessage\": \"\", \"exceptionClass\": \"\", \"trace\": \"\"}}, \"*\")"
      ],
      "text/plain": [
       "<IPython.core.display.Javascript object>"
      ]
     },
     "metadata": {},
     "output_type": "display_data"
    },
    {
     "data": {
      "text/markdown": [
       "<span style=\"color:#33cc33\">Correct:</span> \n",
       "\n",
       "Fitting an ordinal encoder to a column in the training data creates a corresponding integer-valued label for each unique value **that appears in the training data**. In the case that the validation data contains values that don't also appear in the training data, the encoder will throw an error, because these values won't have an integer assigned to them.  Notice that the `'Condition2'` column in the validation data contains the values `'RRAn'` and `'RRNn'`, but these don't appear in the training data -- thus, if we try to use an ordinal encoder with scikit-learn, the code will throw an error."
      ],
      "text/plain": [
       "Correct: \n",
       "\n",
       "Fitting an ordinal encoder to a column in the training data creates a corresponding integer-valued label for each unique value **that appears in the training data**. In the case that the validation data contains values that don't also appear in the training data, the encoder will throw an error, because these values won't have an integer assigned to them.  Notice that the `'Condition2'` column in the validation data contains the values `'RRAn'` and `'RRNn'`, but these don't appear in the training data -- thus, if we try to use an ordinal encoder with scikit-learn, the code will throw an error."
      ]
     },
     "metadata": {},
     "output_type": "display_data"
    }
   ],
   "source": [
    "# Check your answer (Run this code cell to receive credit!)\n",
    "step_2.a.check()"
   ]
  },
  {
   "cell_type": "code",
   "execution_count": 10,
   "id": "de13d3b2",
   "metadata": {
    "execution": {
     "iopub.execute_input": "2022-10-21T22:56:27.457212Z",
     "iopub.status.busy": "2022-10-21T22:56:27.456103Z",
     "iopub.status.idle": "2022-10-21T22:56:27.460586Z",
     "shell.execute_reply": "2022-10-21T22:56:27.459757Z"
    },
    "papermill": {
     "duration": 0.018287,
     "end_time": "2022-10-21T22:56:27.462638",
     "exception": false,
     "start_time": "2022-10-21T22:56:27.444351",
     "status": "completed"
    },
    "tags": []
   },
   "outputs": [],
   "source": [
    "#step_2.a.hint()"
   ]
  },
  {
   "cell_type": "markdown",
   "id": "c7c2fd4f",
   "metadata": {
    "papermill": {
     "duration": 0.010446,
     "end_time": "2022-10-21T22:56:27.483935",
     "exception": false,
     "start_time": "2022-10-21T22:56:27.473489",
     "status": "completed"
    },
    "tags": []
   },
   "source": [
    "This is a common problem that you'll encounter with real-world data, and there are many approaches to fixing this issue.  For instance, you can write a custom ordinal encoder to deal with new categories.  The simplest approach, however, is to drop the problematic categorical columns.  \n",
    "\n",
    "Run the code cell below to save the problematic columns to a Python list `bad_label_cols`.  Likewise, columns that can be safely ordinal encoded are stored in `good_label_cols`."
   ]
  },
  {
   "cell_type": "code",
   "execution_count": 11,
   "id": "995ea2bb",
   "metadata": {
    "execution": {
     "iopub.execute_input": "2022-10-21T22:56:27.508081Z",
     "iopub.status.busy": "2022-10-21T22:56:27.506915Z",
     "iopub.status.idle": "2022-10-21T22:56:27.522172Z",
     "shell.execute_reply": "2022-10-21T22:56:27.520975Z"
    },
    "papermill": {
     "duration": 0.029953,
     "end_time": "2022-10-21T22:56:27.524677",
     "exception": false,
     "start_time": "2022-10-21T22:56:27.494724",
     "status": "completed"
    },
    "tags": []
   },
   "outputs": [
    {
     "name": "stdout",
     "output_type": "stream",
     "text": [
      "Categorical columns that will be ordinal encoded: ['MSZoning', 'Street', 'LotShape', 'LandContour', 'Utilities', 'LotConfig', 'LandSlope', 'Neighborhood', 'Condition1', 'BldgType', 'HouseStyle', 'RoofStyle', 'Exterior1st', 'Exterior2nd', 'ExterQual', 'ExterCond', 'Foundation', 'Heating', 'HeatingQC', 'CentralAir', 'KitchenQual', 'PavedDrive', 'SaleType', 'SaleCondition']\n",
      "\n",
      "Categorical columns that will be dropped from the dataset: ['RoofMatl', 'Functional', 'Condition2']\n"
     ]
    }
   ],
   "source": [
    "# Categorical columns in the training data\n",
    "object_cols = [col for col in X_train.columns if X_train[col].dtype == \"object\"]\n",
    "\n",
    "# Columns that can be safely ordinal encoded\n",
    "good_label_cols = [col for col in object_cols if \n",
    "                   set(X_valid[col]).issubset(set(X_train[col]))]\n",
    "        \n",
    "# Problematic columns that will be dropped from the dataset\n",
    "bad_label_cols = list(set(object_cols)-set(good_label_cols))\n",
    "        \n",
    "print('Categorical columns that will be ordinal encoded:', good_label_cols)\n",
    "print('\\nCategorical columns that will be dropped from the dataset:', bad_label_cols)"
   ]
  },
  {
   "cell_type": "markdown",
   "id": "66e1ee88",
   "metadata": {
    "papermill": {
     "duration": 0.010571,
     "end_time": "2022-10-21T22:56:27.546394",
     "exception": false,
     "start_time": "2022-10-21T22:56:27.535823",
     "status": "completed"
    },
    "tags": []
   },
   "source": [
    "### Part B\n",
    "\n",
    "Use the next code cell to ordinal encode the data in `X_train` and `X_valid`.  Set the preprocessed DataFrames to `label_X_train` and `label_X_valid`, respectively.  \n",
    "- We have provided code below to drop the categorical columns in `bad_label_cols` from the dataset. \n",
    "- You should ordinal encode the categorical columns in `good_label_cols`.  "
   ]
  },
  {
   "cell_type": "code",
   "execution_count": 12,
   "id": "75938d41",
   "metadata": {
    "execution": {
     "iopub.execute_input": "2022-10-21T22:56:27.570082Z",
     "iopub.status.busy": "2022-10-21T22:56:27.569671Z",
     "iopub.status.idle": "2022-10-21T22:56:27.618365Z",
     "shell.execute_reply": "2022-10-21T22:56:27.617086Z"
    },
    "papermill": {
     "duration": 0.063225,
     "end_time": "2022-10-21T22:56:27.620731",
     "exception": false,
     "start_time": "2022-10-21T22:56:27.557506",
     "status": "completed"
    },
    "tags": []
   },
   "outputs": [
    {
     "data": {
      "application/javascript": [
       "parent.postMessage({\"jupyterEvent\": \"custom.exercise_interaction\", \"data\": {\"outcomeType\": 1, \"valueTowardsCompletion\": 0.5, \"interactionType\": 1, \"questionType\": 2, \"questionId\": \"2.2_LabelB\", \"learnToolsVersion\": \"0.3.4\", \"failureMessage\": \"\", \"exceptionClass\": \"\", \"trace\": \"\"}}, \"*\")"
      ],
      "text/plain": [
       "<IPython.core.display.Javascript object>"
      ]
     },
     "metadata": {},
     "output_type": "display_data"
    },
    {
     "data": {
      "text/markdown": [
       "<span style=\"color:#33cc33\">Correct</span>"
      ],
      "text/plain": [
       "Correct"
      ]
     },
     "metadata": {},
     "output_type": "display_data"
    }
   ],
   "source": [
    "from sklearn.preprocessing import OrdinalEncoder\n",
    "\n",
    "# Drop categorical columns that will not be encoded\n",
    "label_X_train = X_train.drop(bad_label_cols, axis=1)\n",
    "label_X_valid = X_valid.drop(bad_label_cols, axis=1)\n",
    "\n",
    "# Apply ordinal encoder \n",
    "ordinal_encoder = OrdinalEncoder()\n",
    "label_X_train[good_label_cols] = ordinal_encoder.fit_transform(label_X_train[good_label_cols])\n",
    "label_X_valid[good_label_cols] = ordinal_encoder.transform(label_X_valid[good_label_cols])\n",
    "    \n",
    "# Check your answer\n",
    "step_2.b.check()"
   ]
  },
  {
   "cell_type": "code",
   "execution_count": 13,
   "id": "4cf6c82f",
   "metadata": {
    "execution": {
     "iopub.execute_input": "2022-10-21T22:56:27.645186Z",
     "iopub.status.busy": "2022-10-21T22:56:27.644772Z",
     "iopub.status.idle": "2022-10-21T22:56:27.649693Z",
     "shell.execute_reply": "2022-10-21T22:56:27.648327Z"
    },
    "papermill": {
     "duration": 0.019822,
     "end_time": "2022-10-21T22:56:27.651903",
     "exception": false,
     "start_time": "2022-10-21T22:56:27.632081",
     "status": "completed"
    },
    "tags": []
   },
   "outputs": [],
   "source": [
    "# Lines below will give you a hint or solution code\n",
    "#step_2.b.hint()\n",
    "#step_2.b.solution()"
   ]
  },
  {
   "cell_type": "markdown",
   "id": "e7e9b20e",
   "metadata": {
    "papermill": {
     "duration": 0.011024,
     "end_time": "2022-10-21T22:56:27.674264",
     "exception": false,
     "start_time": "2022-10-21T22:56:27.663240",
     "status": "completed"
    },
    "tags": []
   },
   "source": [
    "Run the next code cell to get the MAE for this approach."
   ]
  },
  {
   "cell_type": "code",
   "execution_count": 14,
   "id": "4e557c8b",
   "metadata": {
    "execution": {
     "iopub.execute_input": "2022-10-21T22:56:27.698235Z",
     "iopub.status.busy": "2022-10-21T22:56:27.697812Z",
     "iopub.status.idle": "2022-10-21T22:56:29.105670Z",
     "shell.execute_reply": "2022-10-21T22:56:29.104292Z"
    },
    "papermill": {
     "duration": 1.422734,
     "end_time": "2022-10-21T22:56:29.108038",
     "exception": false,
     "start_time": "2022-10-21T22:56:27.685304",
     "status": "completed"
    },
    "tags": []
   },
   "outputs": [
    {
     "name": "stdout",
     "output_type": "stream",
     "text": [
      "MAE from Approach 2 (Ordinal Encoding):\n",
      "17098.01649543379\n"
     ]
    }
   ],
   "source": [
    "print(\"MAE from Approach 2 (Ordinal Encoding):\") \n",
    "print(score_dataset(label_X_train, label_X_valid, y_train, y_valid))"
   ]
  },
  {
   "cell_type": "markdown",
   "id": "4e399e6f",
   "metadata": {
    "papermill": {
     "duration": 0.011237,
     "end_time": "2022-10-21T22:56:29.131215",
     "exception": false,
     "start_time": "2022-10-21T22:56:29.119978",
     "status": "completed"
    },
    "tags": []
   },
   "source": [
    "So far, you've tried two different approaches to dealing with categorical variables.  And, you've seen that encoding categorical data yields better results than removing columns from the dataset.\n",
    "\n",
    "Soon, you'll try one-hot encoding.  Before then, there's one additional topic we need to cover.  Begin by running the next code cell without changes.  "
   ]
  },
  {
   "cell_type": "code",
   "execution_count": 15,
   "id": "56f2d9ee",
   "metadata": {
    "execution": {
     "iopub.execute_input": "2022-10-21T22:56:29.156049Z",
     "iopub.status.busy": "2022-10-21T22:56:29.155633Z",
     "iopub.status.idle": "2022-10-21T22:56:29.170799Z",
     "shell.execute_reply": "2022-10-21T22:56:29.169666Z"
    },
    "papermill": {
     "duration": 0.030596,
     "end_time": "2022-10-21T22:56:29.173261",
     "exception": false,
     "start_time": "2022-10-21T22:56:29.142665",
     "status": "completed"
    },
    "tags": []
   },
   "outputs": [
    {
     "data": {
      "text/plain": [
       "[('Street', 2),\n",
       " ('Utilities', 2),\n",
       " ('CentralAir', 2),\n",
       " ('LandSlope', 3),\n",
       " ('PavedDrive', 3),\n",
       " ('LotShape', 4),\n",
       " ('LandContour', 4),\n",
       " ('ExterQual', 4),\n",
       " ('KitchenQual', 4),\n",
       " ('MSZoning', 5),\n",
       " ('LotConfig', 5),\n",
       " ('BldgType', 5),\n",
       " ('ExterCond', 5),\n",
       " ('HeatingQC', 5),\n",
       " ('Condition2', 6),\n",
       " ('RoofStyle', 6),\n",
       " ('Foundation', 6),\n",
       " ('Heating', 6),\n",
       " ('Functional', 6),\n",
       " ('SaleCondition', 6),\n",
       " ('RoofMatl', 7),\n",
       " ('HouseStyle', 8),\n",
       " ('Condition1', 9),\n",
       " ('SaleType', 9),\n",
       " ('Exterior1st', 15),\n",
       " ('Exterior2nd', 16),\n",
       " ('Neighborhood', 25)]"
      ]
     },
     "execution_count": 15,
     "metadata": {},
     "output_type": "execute_result"
    }
   ],
   "source": [
    "# Get number of unique entries in each column with categorical data\n",
    "object_nunique = list(map(lambda col: X_train[col].nunique(), object_cols))\n",
    "d = dict(zip(object_cols, object_nunique))\n",
    "\n",
    "# Print number of unique entries by column, in ascending order\n",
    "sorted(d.items(), key=lambda x: x[1])"
   ]
  },
  {
   "cell_type": "markdown",
   "id": "c92afb7f",
   "metadata": {
    "papermill": {
     "duration": 0.011454,
     "end_time": "2022-10-21T22:56:29.196601",
     "exception": false,
     "start_time": "2022-10-21T22:56:29.185147",
     "status": "completed"
    },
    "tags": []
   },
   "source": [
    "# Step 3: Investigating cardinality\n",
    "\n",
    "### Part A\n",
    "\n",
    "The output above shows, for each column with categorical data, the number of unique values in the column.  For instance, the `'Street'` column in the training data has two unique values: `'Grvl'` and `'Pave'`, corresponding to a gravel road and a paved road, respectively.\n",
    "\n",
    "We refer to the number of unique entries of a categorical variable as the **cardinality** of that categorical variable.  For instance, the `'Street'` variable has cardinality 2.\n",
    "\n",
    "Use the output above to answer the questions below."
   ]
  },
  {
   "cell_type": "code",
   "execution_count": 16,
   "id": "5077b9cb",
   "metadata": {
    "execution": {
     "iopub.execute_input": "2022-10-21T22:56:29.221745Z",
     "iopub.status.busy": "2022-10-21T22:56:29.221305Z",
     "iopub.status.idle": "2022-10-21T22:56:29.227112Z",
     "shell.execute_reply": "2022-10-21T22:56:29.226037Z"
    },
    "papermill": {
     "duration": 0.02109,
     "end_time": "2022-10-21T22:56:29.229389",
     "exception": false,
     "start_time": "2022-10-21T22:56:29.208299",
     "status": "completed"
    },
    "tags": []
   },
   "outputs": [],
   "source": [
    "num_cols_neighborhood = len(X_train[\"Neighborhood\"].unique().tolist())"
   ]
  },
  {
   "cell_type": "code",
   "execution_count": 17,
   "id": "9f0ff54b",
   "metadata": {
    "execution": {
     "iopub.execute_input": "2022-10-21T22:56:29.254912Z",
     "iopub.status.busy": "2022-10-21T22:56:29.254518Z",
     "iopub.status.idle": "2022-10-21T22:56:29.261692Z",
     "shell.execute_reply": "2022-10-21T22:56:29.260527Z"
    },
    "papermill": {
     "duration": 0.022689,
     "end_time": "2022-10-21T22:56:29.264064",
     "exception": false,
     "start_time": "2022-10-21T22:56:29.241375",
     "status": "completed"
    },
    "tags": []
   },
   "outputs": [
    {
     "data": {
      "text/plain": [
       "25"
      ]
     },
     "execution_count": 17,
     "metadata": {},
     "output_type": "execute_result"
    }
   ],
   "source": [
    "len(X_train[\"Neighborhood\"].unique().tolist())"
   ]
  },
  {
   "cell_type": "code",
   "execution_count": 18,
   "id": "5d8c550b",
   "metadata": {
    "execution": {
     "iopub.execute_input": "2022-10-21T22:56:29.289516Z",
     "iopub.status.busy": "2022-10-21T22:56:29.289071Z",
     "iopub.status.idle": "2022-10-21T22:56:29.302724Z",
     "shell.execute_reply": "2022-10-21T22:56:29.301606Z"
    },
    "papermill": {
     "duration": 0.029059,
     "end_time": "2022-10-21T22:56:29.305012",
     "exception": false,
     "start_time": "2022-10-21T22:56:29.275953",
     "status": "completed"
    },
    "tags": []
   },
   "outputs": [
    {
     "data": {
      "application/javascript": [
       "parent.postMessage({\"jupyterEvent\": \"custom.exercise_interaction\", \"data\": {\"outcomeType\": 1, \"valueTowardsCompletion\": 0.5, \"interactionType\": 1, \"questionType\": 1, \"questionId\": \"3.1_CardinalityA\", \"learnToolsVersion\": \"0.3.4\", \"failureMessage\": \"\", \"exceptionClass\": \"\", \"trace\": \"\"}}, \"*\")"
      ],
      "text/plain": [
       "<IPython.core.display.Javascript object>"
      ]
     },
     "metadata": {},
     "output_type": "display_data"
    },
    {
     "data": {
      "text/markdown": [
       "<span style=\"color:#33cc33\">Correct</span>"
      ],
      "text/plain": [
       "Correct"
      ]
     },
     "metadata": {},
     "output_type": "display_data"
    }
   ],
   "source": [
    "# Fill in the line below: How many categorical variables in the training data\n",
    "# have cardinality greater than 10?\n",
    "high_cardinality_numcols = len([hc_col for hc_col in good_label_cols if len(X_train[hc_col].unique().tolist()) > 10])\n",
    "\n",
    "# Fill in the line below: How many columns are needed to one-hot encode the \n",
    "# 'Neighborhood' variable in the training data?\n",
    "num_cols_neighborhood = len(X_train[\"Neighborhood\"].unique().tolist())\n",
    "\n",
    "# Check your answers\n",
    "step_3.a.check()"
   ]
  },
  {
   "cell_type": "code",
   "execution_count": 19,
   "id": "cf260874",
   "metadata": {
    "execution": {
     "iopub.execute_input": "2022-10-21T22:56:29.331147Z",
     "iopub.status.busy": "2022-10-21T22:56:29.330743Z",
     "iopub.status.idle": "2022-10-21T22:56:29.335688Z",
     "shell.execute_reply": "2022-10-21T22:56:29.334330Z"
    },
    "papermill": {
     "duration": 0.020658,
     "end_time": "2022-10-21T22:56:29.337914",
     "exception": false,
     "start_time": "2022-10-21T22:56:29.317256",
     "status": "completed"
    },
    "tags": []
   },
   "outputs": [],
   "source": [
    "# Lines below will give you a hint or solution code\n",
    "#step_3.a.hint()\n",
    "#step_3.a.solution()"
   ]
  },
  {
   "cell_type": "markdown",
   "id": "b9043731",
   "metadata": {
    "papermill": {
     "duration": 0.01174,
     "end_time": "2022-10-21T22:56:29.361770",
     "exception": false,
     "start_time": "2022-10-21T22:56:29.350030",
     "status": "completed"
    },
    "tags": []
   },
   "source": [
    "### Part B\n",
    "\n",
    "For large datasets with many rows, one-hot encoding can greatly expand the size of the dataset.  For this reason, we typically will only one-hot encode columns with relatively low cardinality.  Then, high cardinality columns can either be dropped from the dataset, or we can use ordinal encoding.\n",
    "\n",
    "As an example, consider a dataset with 10,000 rows, and containing one categorical column with 100 unique entries.  \n",
    "- If this column is replaced with the corresponding one-hot encoding, how many entries are added to the dataset?  \n",
    "- If we instead replace the column with the ordinal encoding, how many entries are added?  \n",
    "\n",
    "Use your answers to fill in the lines below."
   ]
  },
  {
   "cell_type": "code",
   "execution_count": 20,
   "id": "898298ff",
   "metadata": {
    "execution": {
     "iopub.execute_input": "2022-10-21T22:56:29.387778Z",
     "iopub.status.busy": "2022-10-21T22:56:29.387370Z",
     "iopub.status.idle": "2022-10-21T22:56:29.395560Z",
     "shell.execute_reply": "2022-10-21T22:56:29.394708Z"
    },
    "papermill": {
     "duration": 0.023799,
     "end_time": "2022-10-21T22:56:29.397662",
     "exception": false,
     "start_time": "2022-10-21T22:56:29.373863",
     "status": "completed"
    },
    "tags": []
   },
   "outputs": [
    {
     "data": {
      "application/javascript": [
       "parent.postMessage({\"jupyterEvent\": \"custom.exercise_interaction\", \"data\": {\"outcomeType\": 1, \"valueTowardsCompletion\": 0.5, \"interactionType\": 1, \"questionType\": 1, \"questionId\": \"3.2_CardinalityB\", \"learnToolsVersion\": \"0.3.4\", \"failureMessage\": \"\", \"exceptionClass\": \"\", \"trace\": \"\"}}, \"*\")"
      ],
      "text/plain": [
       "<IPython.core.display.Javascript object>"
      ]
     },
     "metadata": {},
     "output_type": "display_data"
    },
    {
     "data": {
      "text/markdown": [
       "<span style=\"color:#33cc33\">Correct</span>"
      ],
      "text/plain": [
       "Correct"
      ]
     },
     "metadata": {},
     "output_type": "display_data"
    }
   ],
   "source": [
    "# Fill in the line below: How many entries are added to the dataset by \n",
    "# replacing the column with a one-hot encoding?\n",
    "OH_entries_added = 99*10_000\n",
    "\n",
    "# Fill in the line below: How many entries are added to the dataset by\n",
    "# replacing the column with an ordinal encoding?\n",
    "label_entries_added = 0\n",
    "\n",
    "# Check your answers\n",
    "step_3.b.check()"
   ]
  },
  {
   "cell_type": "code",
   "execution_count": 21,
   "id": "08d20adc",
   "metadata": {
    "execution": {
     "iopub.execute_input": "2022-10-21T22:56:29.424648Z",
     "iopub.status.busy": "2022-10-21T22:56:29.424246Z",
     "iopub.status.idle": "2022-10-21T22:56:29.429137Z",
     "shell.execute_reply": "2022-10-21T22:56:29.428090Z"
    },
    "papermill": {
     "duration": 0.021396,
     "end_time": "2022-10-21T22:56:29.431445",
     "exception": false,
     "start_time": "2022-10-21T22:56:29.410049",
     "status": "completed"
    },
    "tags": []
   },
   "outputs": [],
   "source": [
    "# Lines below will give you a hint or solution code\n",
    "#step_3.b.hint()\n",
    "#step_3.b.solution()"
   ]
  },
  {
   "cell_type": "markdown",
   "id": "d4102d24",
   "metadata": {
    "papermill": {
     "duration": 0.011824,
     "end_time": "2022-10-21T22:56:29.455704",
     "exception": false,
     "start_time": "2022-10-21T22:56:29.443880",
     "status": "completed"
    },
    "tags": []
   },
   "source": [
    "Next, you'll experiment with one-hot encoding.  But, instead of encoding all of the categorical variables in the dataset, you'll only create a one-hot encoding for columns with cardinality less than 10.\n",
    "\n",
    "Run the code cell below without changes to set `low_cardinality_cols` to a Python list containing the columns that will be one-hot encoded.  Likewise, `high_cardinality_cols` contains a list of categorical columns that will be dropped from the dataset."
   ]
  },
  {
   "cell_type": "code",
   "execution_count": 22,
   "id": "f60b91e9",
   "metadata": {
    "execution": {
     "iopub.execute_input": "2022-10-21T22:56:29.481617Z",
     "iopub.status.busy": "2022-10-21T22:56:29.481150Z",
     "iopub.status.idle": "2022-10-21T22:56:29.493713Z",
     "shell.execute_reply": "2022-10-21T22:56:29.492275Z"
    },
    "papermill": {
     "duration": 0.028311,
     "end_time": "2022-10-21T22:56:29.496104",
     "exception": false,
     "start_time": "2022-10-21T22:56:29.467793",
     "status": "completed"
    },
    "tags": []
   },
   "outputs": [
    {
     "name": "stdout",
     "output_type": "stream",
     "text": [
      "Categorical columns that will be one-hot encoded: ['MSZoning', 'Street', 'LotShape', 'LandContour', 'Utilities', 'LotConfig', 'LandSlope', 'Condition1', 'Condition2', 'BldgType', 'HouseStyle', 'RoofStyle', 'RoofMatl', 'ExterQual', 'ExterCond', 'Foundation', 'Heating', 'HeatingQC', 'CentralAir', 'KitchenQual', 'Functional', 'PavedDrive', 'SaleType', 'SaleCondition']\n",
      "\n",
      "Categorical columns that will be dropped from the dataset: ['Neighborhood', 'Exterior1st', 'Exterior2nd']\n"
     ]
    }
   ],
   "source": [
    "# Columns that will be one-hot encoded\n",
    "low_cardinality_cols = [col for col in object_cols if X_train[col].nunique() < 10]\n",
    "\n",
    "# Columns that will be dropped from the dataset\n",
    "high_cardinality_cols = list(set(object_cols)-set(low_cardinality_cols))\n",
    "\n",
    "print('Categorical columns that will be one-hot encoded:', low_cardinality_cols)\n",
    "print('\\nCategorical columns that will be dropped from the dataset:', high_cardinality_cols)"
   ]
  },
  {
   "cell_type": "code",
   "execution_count": 23,
   "id": "b98b8ce6",
   "metadata": {
    "execution": {
     "iopub.execute_input": "2022-10-21T22:56:29.522605Z",
     "iopub.status.busy": "2022-10-21T22:56:29.522182Z",
     "iopub.status.idle": "2022-10-21T22:56:29.528683Z",
     "shell.execute_reply": "2022-10-21T22:56:29.527686Z"
    },
    "papermill": {
     "duration": 0.022159,
     "end_time": "2022-10-21T22:56:29.530781",
     "exception": false,
     "start_time": "2022-10-21T22:56:29.508622",
     "status": "completed"
    },
    "tags": []
   },
   "outputs": [
    {
     "data": {
      "text/plain": [
       "24"
      ]
     },
     "execution_count": 23,
     "metadata": {},
     "output_type": "execute_result"
    }
   ],
   "source": [
    "len(low_cardinality_cols)"
   ]
  },
  {
   "cell_type": "markdown",
   "id": "92c4ae5d",
   "metadata": {
    "papermill": {
     "duration": 0.011993,
     "end_time": "2022-10-21T22:56:29.554938",
     "exception": false,
     "start_time": "2022-10-21T22:56:29.542945",
     "status": "completed"
    },
    "tags": []
   },
   "source": [
    "# Step 4: One-hot encoding\n",
    "\n",
    "Use the next code cell to one-hot encode the data in `X_train` and `X_valid`.  Set the preprocessed DataFrames to `OH_X_train` and `OH_X_valid`, respectively.  \n",
    "- The full list of categorical columns in the dataset can be found in the Python list `object_cols`.\n",
    "- You should only one-hot encode the categorical columns in `low_cardinality_cols`.  All other categorical columns should be dropped from the dataset. "
   ]
  },
  {
   "cell_type": "code",
   "execution_count": 24,
   "id": "ac7d1bec",
   "metadata": {
    "execution": {
     "iopub.execute_input": "2022-10-21T22:56:29.581431Z",
     "iopub.status.busy": "2022-10-21T22:56:29.580996Z",
     "iopub.status.idle": "2022-10-21T22:56:29.622313Z",
     "shell.execute_reply": "2022-10-21T22:56:29.621399Z"
    },
    "papermill": {
     "duration": 0.057097,
     "end_time": "2022-10-21T22:56:29.624393",
     "exception": false,
     "start_time": "2022-10-21T22:56:29.567296",
     "status": "completed"
    },
    "tags": []
   },
   "outputs": [
    {
     "data": {
      "application/javascript": [
       "parent.postMessage({\"jupyterEvent\": \"custom.exercise_interaction\", \"data\": {\"outcomeType\": 1, \"valueTowardsCompletion\": 0.5, \"interactionType\": 1, \"questionType\": 2, \"questionId\": \"4_OneHot\", \"learnToolsVersion\": \"0.3.4\", \"failureMessage\": \"\", \"exceptionClass\": \"\", \"trace\": \"\"}}, \"*\")"
      ],
      "text/plain": [
       "<IPython.core.display.Javascript object>"
      ]
     },
     "metadata": {},
     "output_type": "display_data"
    },
    {
     "data": {
      "text/markdown": [
       "<span style=\"color:#33cc33\">Correct</span>"
      ],
      "text/plain": [
       "Correct"
      ]
     },
     "metadata": {},
     "output_type": "display_data"
    }
   ],
   "source": [
    "from sklearn.preprocessing import OneHotEncoder\n",
    "\n",
    "# Use as many lines of code as you need!\n",
    "ohe = OneHotEncoder(sparse=False, handle_unknown=\"ignore\")\n",
    "\n",
    "OH_X_train = pd.DataFrame(ohe.fit_transform(X_train[low_cardinality_cols])) # Your code here\n",
    "OH_X_valid = pd.DataFrame(ohe.transform(X_valid[low_cardinality_cols])) # Your code here\n",
    "\n",
    "OH_X_train.index = X_train.index\n",
    "OH_X_valid.index = X_valid.index\n",
    "\n",
    "X_train = X_train.drop(set(object_cols), axis=1)\n",
    "X_valid = X_valid.drop(set(object_cols), axis=1)\n",
    "\n",
    "OH_X_train = pd.concat([OH_X_train, X_train], axis=1)\n",
    "OH_X_valid = pd.concat([OH_X_valid, X_valid], axis=1)\n",
    "\n",
    "\n",
    "# Check your answer\n",
    "step_4.check()"
   ]
  },
  {
   "cell_type": "code",
   "execution_count": 25,
   "id": "282d0492",
   "metadata": {
    "execution": {
     "iopub.execute_input": "2022-10-21T22:56:29.650936Z",
     "iopub.status.busy": "2022-10-21T22:56:29.650520Z",
     "iopub.status.idle": "2022-10-21T22:56:29.655126Z",
     "shell.execute_reply": "2022-10-21T22:56:29.654079Z"
    },
    "papermill": {
     "duration": 0.0205,
     "end_time": "2022-10-21T22:56:29.657284",
     "exception": false,
     "start_time": "2022-10-21T22:56:29.636784",
     "status": "completed"
    },
    "tags": []
   },
   "outputs": [],
   "source": [
    "# Lines below will give you a hint or solution code\n",
    "#step_4.hint()\n",
    "#step_4.solution()"
   ]
  },
  {
   "cell_type": "markdown",
   "id": "8de3ca97",
   "metadata": {
    "papermill": {
     "duration": 0.012021,
     "end_time": "2022-10-21T22:56:29.681678",
     "exception": false,
     "start_time": "2022-10-21T22:56:29.669657",
     "status": "completed"
    },
    "tags": []
   },
   "source": [
    "Run the next code cell to get the MAE for this approach."
   ]
  },
  {
   "cell_type": "code",
   "execution_count": 26,
   "id": "337f9652",
   "metadata": {
    "execution": {
     "iopub.execute_input": "2022-10-21T22:56:29.708140Z",
     "iopub.status.busy": "2022-10-21T22:56:29.707704Z",
     "iopub.status.idle": "2022-10-21T22:56:31.488755Z",
     "shell.execute_reply": "2022-10-21T22:56:31.487390Z"
    },
    "papermill": {
     "duration": 1.797502,
     "end_time": "2022-10-21T22:56:31.491528",
     "exception": false,
     "start_time": "2022-10-21T22:56:29.694026",
     "status": "completed"
    },
    "tags": []
   },
   "outputs": [
    {
     "name": "stdout",
     "output_type": "stream",
     "text": [
      "MAE from Approach 3 (One-Hot Encoding):\n"
     ]
    },
    {
     "name": "stderr",
     "output_type": "stream",
     "text": [
      "/opt/conda/lib/python3.7/site-packages/sklearn/utils/validation.py:1692: FutureWarning: Feature names only support names that are all strings. Got feature names with dtypes: ['int', 'str']. An error will be raised in 1.2.\n",
      "  FutureWarning,\n"
     ]
    },
    {
     "name": "stdout",
     "output_type": "stream",
     "text": [
      "17537.55444063927\n"
     ]
    },
    {
     "name": "stderr",
     "output_type": "stream",
     "text": [
      "/opt/conda/lib/python3.7/site-packages/sklearn/utils/validation.py:1692: FutureWarning: Feature names only support names that are all strings. Got feature names with dtypes: ['int', 'str']. An error will be raised in 1.2.\n",
      "  FutureWarning,\n"
     ]
    }
   ],
   "source": [
    "print(\"MAE from Approach 3 (One-Hot Encoding):\") \n",
    "print(score_dataset(OH_X_train, OH_X_valid, y_train, y_valid))"
   ]
  },
  {
   "cell_type": "markdown",
   "id": "79e04b7a",
   "metadata": {
    "papermill": {
     "duration": 0.012463,
     "end_time": "2022-10-21T22:56:31.516788",
     "exception": false,
     "start_time": "2022-10-21T22:56:31.504325",
     "status": "completed"
    },
    "tags": []
   },
   "source": [
    "# Generate test predictions and submit your results\n",
    "\n",
    "After you complete Step 4, if you'd like to use what you've learned to submit your results to the leaderboard, you'll need to preprocess the test data before generating predictions.\n",
    "\n",
    "**This step is completely optional, and you do not need to submit results to the leaderboard to successfully complete the exercise.**\n",
    "\n",
    "Check out the previous exercise if you need help with remembering how to [join the competition](https://www.kaggle.com/c/home-data-for-ml-course) or save your results to CSV.  Once you have generated a file with your results, follow the instructions below:\n",
    "1. Begin by clicking on the **Save Version** button in the top right corner of the window.  This will generate a pop-up window.  \n",
    "2. Ensure that the **Save and Run All** option is selected, and then click on the **Save** button.\n",
    "3. This generates a window in the bottom left corner of the notebook.  After it has finished running, click on the number to the right of the **Save Version** button.  This pulls up a list of versions on the right of the screen.  Click on the ellipsis **(...)** to the right of the most recent version, and select **Open in Viewer**.  This brings you into view mode of the same page. You will need to scroll down to get back to these instructions.\n",
    "4. Click on the **Output** tab on the right of the screen.  Then, click on the file you would like to submit, and click on the **Submit** button to submit your results to the leaderboard.\n",
    "\n",
    "You have now successfully submitted to the competition!\n",
    "\n",
    "If you want to keep working to improve your performance, select the **Edit** button in the top right of the screen. Then you can change your code and repeat the process. There's a lot of room to improve, and you will climb up the leaderboard as you work.\n"
   ]
  },
  {
   "cell_type": "code",
   "execution_count": 27,
   "id": "3d9a95b9",
   "metadata": {
    "execution": {
     "iopub.execute_input": "2022-10-21T22:56:31.543739Z",
     "iopub.status.busy": "2022-10-21T22:56:31.543312Z",
     "iopub.status.idle": "2022-10-21T22:56:31.547984Z",
     "shell.execute_reply": "2022-10-21T22:56:31.546767Z"
    },
    "papermill": {
     "duration": 0.021091,
     "end_time": "2022-10-21T22:56:31.550520",
     "exception": false,
     "start_time": "2022-10-21T22:56:31.529429",
     "status": "completed"
    },
    "tags": []
   },
   "outputs": [],
   "source": [
    "# (Optional) Your code here"
   ]
  },
  {
   "cell_type": "markdown",
   "id": "eeb92725",
   "metadata": {
    "papermill": {
     "duration": 0.01284,
     "end_time": "2022-10-21T22:56:31.576546",
     "exception": false,
     "start_time": "2022-10-21T22:56:31.563706",
     "status": "completed"
    },
    "tags": []
   },
   "source": [
    "# Keep going\n",
    "\n",
    "With missing value handling and categorical encoding, your modeling process is getting complex. This complexity gets worse when you want to save your model to use in the future. The key to managing this complexity is something called **pipelines**. \n",
    "\n",
    "**[Learn to use pipelines](https://www.kaggle.com/alexisbcook/pipelines)** to preprocess datasets with categorical variables, missing values and any other messiness your data throws at you."
   ]
  },
  {
   "cell_type": "markdown",
   "id": "507d3a65",
   "metadata": {
    "papermill": {
     "duration": 0.012694,
     "end_time": "2022-10-21T22:56:31.602391",
     "exception": false,
     "start_time": "2022-10-21T22:56:31.589697",
     "status": "completed"
    },
    "tags": []
   },
   "source": [
    "---\n",
    "\n",
    "\n",
    "\n",
    "\n",
    "*Have questions or comments? Visit the [course discussion forum](https://www.kaggle.com/learn/intermediate-machine-learning/discussion) to chat with other learners.*"
   ]
  }
 ],
 "metadata": {
  "kernelspec": {
   "display_name": "Python 3",
   "language": "python",
   "name": "python3"
  },
  "language_info": {
   "codemirror_mode": {
    "name": "ipython",
    "version": 3
   },
   "file_extension": ".py",
   "mimetype": "text/x-python",
   "name": "python",
   "nbconvert_exporter": "python",
   "pygments_lexer": "ipython3",
   "version": "3.7.12"
  },
  "papermill": {
   "default_parameters": {},
   "duration": 17.588116,
   "end_time": "2022-10-21T22:56:32.336713",
   "environment_variables": {},
   "exception": null,
   "input_path": "__notebook__.ipynb",
   "output_path": "__notebook__.ipynb",
   "parameters": {},
   "start_time": "2022-10-21T22:56:14.748597",
   "version": "2.3.4"
  }
 },
 "nbformat": 4,
 "nbformat_minor": 5
}
